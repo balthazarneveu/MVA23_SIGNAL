{
 "cells": [
  {
   "cell_type": "code",
   "execution_count": 37,
   "id": "c235e40c",
   "metadata": {},
   "outputs": [],
   "source": [
    "import numpy as np\n",
    "import torch \n",
    "import h5py # pour gérer les formats de données utilisés ici \n"
   ]
  },
  {
   "cell_type": "markdown",
   "id": "50aa84c0",
   "metadata": {},
   "source": [
    "# TP3: Reconnaissance de signaux de communication par apprentissage profond \n",
    "\n",
    "Mathilde Dupouy\n",
    "\n",
    "Balthazar Neveu\n",
    "\n",
    "Au moment du rendu, le notebook doit être nommé nom1_nom2_dlts_tp3.ipynb \n",
    "\n",
    "3 séances de TP sur ce sujet : le 15 novembre (1h00), le 22 novembre (3h) et le 29 novembre (3h).<br> \n",
    "Deadline : 6 décembre 2023, 11h59, par mail à deepetsignal.mva@gmail.com <br> \n",
    "\n",
    "Pour installer les paquets nécessaires à la réalisation de ce TP vous pouvez utiliser dans le notebook \n",
    "    \n",
    "```\n",
    "!pip install \\< nom_du_paquet \\>\n",
    "```\n",
    "merci de regrouper toutes les installations dans la première cellule du notebook. \n",
    "Essayez de faire en sorte que votre notebook puisse se lire comme un compte rendu, évitez de laisser du code mort et prennez le temps de commenter vos observations et résultats."
   ]
  },
  {
   "cell_type": "markdown",
   "id": "2747407a",
   "metadata": {},
   "source": [
    "## Problématique\n",
    "\n",
    "On cherche à identifier un type d'émetteur de communication à partir de l'observation d'un signal provenant de l'émetteur \n",
    "de 2048 échantillons IQ (In Phase / Quadrature) ie le signal prend des valeurs complexes. On représente la partie \n",
    "réelle et la partie imaginaire du signal par deux canaux réel d'un signal multivarié. \n",
    "\n",
    "L'émetteur peut provenir de 6 catégories différentes. \n",
    "Les paramètres différenciant les différentes catégories sont \n",
    "- le type de modulation \n",
    "- la présence ou non de séquences pilotes et le cas échéant la structure de trame pilotes / données \n",
    "- le débit de la transmission \n",
    "\n",
    "Les signaux se propagent en champs libre et sont enregistrés par une antenne. Le signal reçu est transposé en bande de base c'est à dire que si le signal est transmis autour d'une fréquence centrale f0, une première étape de traitement du signal à la réception recentre le signal autour de la fréquence 0. \n",
    "\n",
    "\n",
    "Les différents signaux observés dans ce TP sont entachés de différentes erreurs caractéristiques de la propagation \n",
    "électromagnétiques comme : \n",
    "- modification aléatoire de la phase du signal lors de la transmission\n",
    "- imperfection de la transposition en bande de base qui laisse le signal transposé à une fréquence df0 << f0\n",
    "- présence d'interférence entre les symboles transmis (dûes par exemple à plusieurs chemins de propagation)\n",
    "- présence d'un bruit blanc additif gaussien\n",
    "\n",
    "Le niveau du bruit relativement à celui du signal utile est décrit par le SNR (Signal to Noise Ratio) et exprimé en dB. On suppose que le SNR est connu lors de l'acquisition d'un signal. Lors de ce TP nous rencontrerons 4 niveaux de SNR: 30 dB (facile), 20 dB, 10 dB et 0 dB (en espérant qu'on puisse faire quelque chose de ces données). \n",
    "Un de nos objectifs sera de qualifier la performance des algorithmes mis en place en fonction du SNR.\n",
    "\n",
    "Les objectifs de ce TP sont: \n",
    "1/ Définir une ou plusieurs architectures de réseaux de neurones profonds et les implémenter en PyTorch\n",
    "2/ Entrainer ces architectures, la fonction de perte employée pourra être la log vraisemblance négative: https://pytorch.org/docs/stable/generated/torch.nn.NLLLoss.html. \n",
    "3/ Qualifier les performances de votre réseau de neurones sur l'ensemble de test via: \n",
    "   - Le calcul de l'accuracy implémentée par exemple dans le package TorchMetrics (https://torchmetrics.readthedocs.io/en/stable/classification/accuracy.html)\n",
    "   - La réalisation d'un graphique accuracy vs SNR \n",
    "   - La réalisation des matrices de confusion entre les différentes classes pour les différents SNR (https://scikit-learn.org/stable/modules/generated/sklearn.metrics.confusion_matrix.html#sklearn.metrics.confusion_matrix)\n",
    "\n",
    "Durant l'entraînement on observera l'évolution de la fonction de perte et de l'accuracy sur l'ensemble d'entraînement et sur l'ensemble de validation. \n",
    "\n",
    "\n",
    "Les 4 premières parties sont un échauffement sur lequel vous pouvez passer vite si vous êtes à l'aise avec le sujet. \n",
    "Le gros du travail est dans la partie 5 \"Entraînemenent d'un réseau de neurones\". \n"
   ]
  },
  {
   "cell_type": "markdown",
   "id": "bf4865e6",
   "metadata": {},
   "source": [
    "## Chargement des données en numpy\n",
    "\n",
    "Le TP est composé de trois jeux de données : \n",
    "- train.hdf5 destiné à nourrir l'entrainement de réseaux de neurones \n",
    "- test.hdf5 destiné à évaluer les algorithmes après entrainement\n",
    "- samples.hdf5 qui est beaucoup plus petit que train.hdf5 et destiné à servir de modèle de données dans une phase de prototypage \n",
    "des algorithmes et de la pipeline d'entrainement\n",
    "\n",
    "Les trois jeux de données sont au format hdf5 qui peut être manipulé via l'API Python h5py https://docs.h5py.org/en/stable/quick.html.\n",
    "Un fichier hdf5 est consitué d'une arborescence de datasets et de groups. Un dataset hdf5 représente un tenseur n dimensionnel. Un dataset se convertit très facilement en numpy array.\n",
    "\n",
    "Par exemple vous pouvez charger les données samples selon la cellule suivante:"
   ]
  },
  {
   "cell_type": "code",
   "execution_count": 38,
   "metadata": {},
   "outputs": [],
   "source": [
    "def get_labels(open_h5_file): \n",
    "    return {\n",
    "        open_h5_file['label_name'].attrs[k] : k\n",
    "        for k in open_h5_file['label_name'].attrs.keys()\n",
    "    }"
   ]
  },
  {
   "cell_type": "code",
   "execution_count": 39,
   "id": "803ab62b",
   "metadata": {},
   "outputs": [],
   "source": [
    "from pathlib import Path\n",
    "DATA = Path(\"data\")\n",
    "data_path = DATA/\"samples.hdf5\"\n",
    "assert data_path.exists()\n",
    "data = h5py.File(data_path , 'r')\n",
    "\n",
    "signals = np.array(data['signaux'])\n",
    "snr =  np.array(data['snr'])\n",
    "labels_id = np.array(data['labels'])\n",
    "label_dict = get_labels(data)\n",
    "data.close()"
   ]
  },
  {
   "cell_type": "markdown",
   "id": "66630a9e",
   "metadata": {},
   "source": [
    "Vous pouvez récupérer le nom de la correspondance entre un label et le nom du standard d'émetteur correspondant via:"
   ]
  },
  {
   "cell_type": "markdown",
   "id": "3c61acbe",
   "metadata": {},
   "source": [
    "### Visualisation des données \n",
    "\n",
    "Commencez par étudier les données: \n",
    "\n",
    "    - observez leur taille \n",
    "    - la distribution des différentes classes et des différents SNR dans l'ensemble d'entrainement \n",
    "    - visualisez quelques signaux bien choisis selon une ou des représentations que vous choisirez "
   ]
  },
  {
   "cell_type": "code",
   "execution_count": 40,
   "id": "5f0a2f83",
   "metadata": {},
   "outputs": [
    {
     "data": {
      "application/vnd.jupyter.widget-view+json": {
       "model_id": "2867e2f360404ca2898629e47a89ff59",
       "version_major": 2,
       "version_minor": 0
      },
      "text/plain": [
       "interactive(children=(IntSlider(value=0, description='idx', max=199), Output()), _dom_classes=('widget-interac…"
      ]
     },
     "metadata": {},
     "output_type": "display_data"
    }
   ],
   "source": [
    "from ipywidgets import interact, IntSlider\n",
    "import matplotlib.pyplot as plt\n",
    "def visualize(idx):\n",
    "    # plt.plot(signals[idx, :, 0], label=\"real\")\n",
    "    # plt.plot(signals[idx, :, 1], label=\"imaginary\")\n",
    "    plt.scatter(signals[idx, :, 0], signals[idx, :, 1], label=\"complex\", alpha=0.5)\n",
    "    plt.title(f'{label_dict.get(labels_id[idx], \"unknown\")} SNR={snr[idx]} db')\n",
    "    plt.legend()\n",
    "    plt.xlim(-3, 3)\n",
    "    plt.ylim(-3, 3)\n",
    "    plt.grid()\n",
    "    plt.show()\n",
    "\n",
    "interact(visualize, idx=IntSlider(min=0, max=signals.shape[0]-1, step=1));"
   ]
  },
  {
   "cell_type": "code",
   "execution_count": 41,
   "metadata": {},
   "outputs": [
    {
     "data": {
      "image/png": "[encoded data removed]",
      "text/plain": [
       "<Figure size 640x480 with 1 Axes>"
      ]
     },
     "metadata": {},
     "output_type": "display_data"
    }
   ],
   "source": [
    "plt.hist(labels_id, bins=6, label=label_dict)\n",
    "plt.show()"
   ]
  },
  {
   "cell_type": "markdown",
   "id": "ff9fa901",
   "metadata": {},
   "source": [
    "## Chargement des données en Pytorch\n",
    "\n",
    "Pour entrainer des réseaux de neurones profond sur nos données nous allons utiliser le framework Pytorch. \n",
    "Une première étape va consister à transférer les données de numpy à PyTorch, cela passe par deux objets : \n",
    "    - un Dataset qui modélise le dataset à haut niveau dans la mémoire de l'ordinateur\n",
    "    - un Dataloader qui permet d'échantillonner le Dataset Pytorch dans les itérations de l'optimisation du réseau de neurones \n",
    "    \n",
    "Un dataset prend la forme \n",
    "```python\n",
    "class MyDataset(torch.utils.data.Dataset):\n",
    "    \n",
    "    def __init__(self, path_to_data):\n",
    "        ...\n",
    "    def __len__(self): #retourne le nombre de données dans le dataset\n",
    "        ...\n",
    "    def __getitem__(self,i): #retourne pour chaque indice i un couple (data_i, lablel_i), data_i étant un signal et label_i le label associé au signal\n",
    "        ...\n",
    "```\n",
    "\n",
    "Implémentez une classe Dataset pour le dataset considéré ici "
   ]
  },
  {
   "cell_type": "code",
   "execution_count": 42,
   "id": "53406fbc",
   "metadata": {},
   "outputs": [
    {
     "ename": "SyntaxError",
     "evalue": "unexpected EOF while parsing (3444659798.py, line 8)",
     "output_type": "error",
     "traceback": [
      "\u001b[1;36m  Cell \u001b[1;32mIn[42], line 8\u001b[1;36m\u001b[0m\n\u001b[1;33m    \u001b[0m\n\u001b[1;37m    ^\u001b[0m\n\u001b[1;31mSyntaxError\u001b[0m\u001b[1;31m:\u001b[0m unexpected EOF while parsing\n"
     ]
    }
   ],
   "source": [
    "class Dataloader():\n",
    "    def __init__(self, path: Path):\n",
    "        self.path = path\n",
    "        assert path.exists()\n",
    "    \n",
    "    def __len__(self):\n",
    "        \n",
    "        "
   ]
  },
  {
   "cell_type": "markdown",
   "id": "69069805",
   "metadata": {},
   "source": [
    "Instanciez un objet dataset et testez le sur les données samples\n",
    "```python\n",
    "dataset = MyDataset(...)\n",
    "```"
   ]
  },
  {
   "cell_type": "code",
   "execution_count": null,
   "id": "144c1e7e",
   "metadata": {},
   "outputs": [],
   "source": []
  },
  {
   "cell_type": "markdown",
   "id": "9c6532b5",
   "metadata": {},
   "source": [
    "Pytorch propose une classe Dataloader qui permet d'échantillonner des batchs de taille fixe à partir d'un dataset. \n",
    "La cellule suivante donne un exemple d'utilisation"
   ]
  },
  {
   "cell_type": "code",
   "execution_count": null,
   "id": "3044a289",
   "metadata": {},
   "outputs": [],
   "source": [
    "from torch.utils.data import DataLoader\n",
    "\n",
    "dataloader = DataLoader(dataset, \n",
    "                        batch_size=10, \n",
    "                        shuffle=True\n",
    "                       )"
   ]
  },
  {
   "cell_type": "markdown",
   "id": "037f1b6e",
   "metadata": {},
   "source": [
    "Testez le dataloader pour différentes valeurs de batch_size "
   ]
  },
  {
   "cell_type": "code",
   "execution_count": null,
   "id": "965210fa",
   "metadata": {},
   "outputs": [],
   "source": []
  },
  {
   "cell_type": "markdown",
   "id": "fb7a7c17",
   "metadata": {},
   "source": [
    "## Mise en place d'un réseau \"dumb\" pour tester la pipeline d'entrainement\n",
    "\n",
    "Définissez un premier modèle Pytorch qui prend en entrée un batch de données (tenseur de dimensions [B , C, T] avec B la taille du batch, C le nombre de canaux des signaux et T le nombre d'échantillons dans les signaux) et renvoie un batch de vecteur de probabilités (ou de log probabilités si vous préférez) (tenseur de dimensions [B,N] où N est le nombre de classe à identifier). \n",
    "\n",
    "Ce Modèle doit être très simple, il doit être rapide à exécuter, il servira à tester et éventuellement débugger la pipeline d'entrainement que vous mettrez en place un peu plus loin. Un template d'implémentation d'une classe Model se trouve dans les diapositives du cours."
   ]
  },
  {
   "cell_type": "code",
   "execution_count": null,
   "id": "8710cd3f",
   "metadata": {},
   "outputs": [],
   "source": []
  },
  {
   "cell_type": "markdown",
   "id": "f8767db4",
   "metadata": {},
   "source": [
    "Instanciez votre modèle et testez la consistence de ses entrées / sorties vis à vis des données étudiées "
   ]
  },
  {
   "cell_type": "code",
   "execution_count": null,
   "id": "48d3766f",
   "metadata": {},
   "outputs": [],
   "source": []
  },
  {
   "cell_type": "markdown",
   "id": "617dcb82",
   "metadata": {},
   "source": [
    "## Mise en place de la pipeline d'entraînement\n",
    "\n",
    "La pipeline d'entrainement consiste à \n",
    "- charger les données \n",
    "- les batcher \n",
    "- réaliser des itération (epochs) de descente de gradient pour optimiser les paramètres d'un algorithme selon une fonction de perte (loss)\n",
    "- logger l'évolution au fil des epochs  de la loss sur l'ensemble train et l'ensemble de validation et éventuellement de métriques complémentaires \n",
    "\n",
    "Un cavnevas d'implémentation pourrait être:\n",
    "\n",
    "```python\n",
    "device = 'cpu' # set so 'cuda:xx' if you have a GPU, xx is GPU index. L'entraînement des réseaux de neurones est grandement accéléré par l'utilisation d'un GPU \n",
    "\n",
    "model = ...  # vous instanciez ici votre modèle\n",
    "\n",
    "loss = .... # définissez la fonction de perte selon laquelle le modèle sera optimisé\n",
    "\n",
    "optimizer = torch.optim.Adam(model.parameters()) # en pratique on utilise pas une simple descente de gradient mais une procédure d'optimisation plus sophistiquée qui est implémentée sous la forme d'un objet Optimizer. Il en existe beaucoup d'optimizers différents, vous pouvez en tester différents, je vous propose d'utiliser en premier lieu l'algorithme Adam\n",
    "\n",
    "n_epochs = ... # le nombre d'itérations dans l'entrainement \n",
    "\n",
    "chemin_vers_sauvegarde_model = # chemin vers un fichier où vous sauvegarderez votre modèle après optimisation pour le réutiliser plus tard. \n",
    "\n",
    "model.to(device) # on place le modèle dans le GPU si nécessaire\n",
    "\n",
    "for epoch in range(n_epochs):\n",
    "    \n",
    "    for batch_x,batch_y in dataloader_train:\n",
    "        \n",
    "        batch_x.to(device)\n",
    "        batch_y.to(device)\n",
    "        \n",
    "        optimizer.zero_grad()\n",
    "        \n",
    "        batch_y_predicted = model(batch_x)\n",
    "        \n",
    "        l = loss(batch_y_predicted, batch_y)\n",
    "        # loggez la loss sur le batch d'entraînement\n",
    "        \n",
    "        l.backward()\n",
    "        \n",
    "        optimizer.step()\n",
    "        \n",
    "    for batch_x,batch_y in dataloader_valid:\n",
    "        \n",
    "        batch_x.to(device)\n",
    "        batch_y.to(device)\n",
    "        \n",
    "        with torch.no_grad():\n",
    "            batch_y_predicted = model(batch_x)  \n",
    "            \n",
    "        # loggez la loss et les métriques sur le batch de validation\n",
    "\n",
    "torch.save(model, chemin_vers_sauvegarde_model)\n",
    "\n",
    "```"
   ]
  },
  {
   "cell_type": "markdown",
   "id": "39c67127",
   "metadata": {},
   "source": [
    "Mettez en place votre pipeline et testez là sur votre modèle dumb. Faites en sorte que votre façon de logger les loss et les métriques vous permette de visualiser l'évolution de ces différents indicateurs sur l'ensemble d'entrainement et de validation au fil des epochs. "
   ]
  },
  {
   "cell_type": "code",
   "execution_count": null,
   "id": "6d8ffa16",
   "metadata": {},
   "outputs": [],
   "source": []
  },
  {
   "cell_type": "code",
   "execution_count": null,
   "id": "1a455335",
   "metadata": {},
   "outputs": [],
   "source": []
  },
  {
   "cell_type": "markdown",
   "id": "4994ac40",
   "metadata": {},
   "source": [
    "Vérifiez que vous avez bien enregistré votre modèle en fin d'entrainement. Chargez le avec la fonction \n",
    "```python\n",
    "modele = torch.load(...) \n",
    "```\n",
    "et vérifiez que vous pouvez l'utiliser sur des données du problème."
   ]
  },
  {
   "cell_type": "markdown",
   "id": "e164707e",
   "metadata": {},
   "source": [
    "## Entraînement de réseaux de neurones\n",
    "\n",
    "Dans cette partie vous définissez une ou plusieurs architecture de réseaux de neurones profonds et vous les réglez sur les données d'entrainement. \n",
    "Vous pouvez notamment utiliser des réseaux à base de convolutions et/ou de couches réurrentes. Vous pouvez vous inspirer de ce qui a été dit en cours sur la reconnaissance vocale.\n",
    "\n",
    "Vous pouvez si vous le souhaitez mettre en place des stratégies d'augmentation de données pour améliorer vos résultats. Pour mettre l'augmentation de données en pratique pouvez vous renseigner sur l'argument collate_fn du dataloader standard de Pytorch. "
   ]
  },
  {
   "cell_type": "code",
   "execution_count": null,
   "id": "a914bb87",
   "metadata": {},
   "outputs": [],
   "source": []
  },
  {
   "cell_type": "code",
   "execution_count": null,
   "id": "c46810f1",
   "metadata": {},
   "outputs": [],
   "source": []
  },
  {
   "cell_type": "markdown",
   "id": "878c3943",
   "metadata": {},
   "source": [
    "## Synthèse de résultats \n",
    "\n",
    "Une fois que votre ou vos réseaux sont entrainez vous comparez leurs performances selon les métriques définies en introduction sur l'ensemble de test"
   ]
  },
  {
   "cell_type": "code",
   "execution_count": null,
   "id": "5dbac3d1",
   "metadata": {},
   "outputs": [],
   "source": []
  },
  {
   "cell_type": "code",
   "execution_count": null,
   "id": "16dda3c2",
   "metadata": {},
   "outputs": [],
   "source": []
  }
 ],
 "metadata": {
  "kernelspec": {
   "display_name": "Python 3 (ipykernel)",
   "language": "python",
   "name": "python3"
  },
  "language_info": {
   "codemirror_mode": {
    "name": "ipython",
    "version": 3
   },
   "file_extension": ".py",
   "mimetype": "text/x-python",
   "name": "python",
   "nbconvert_exporter": "python",
   "pygments_lexer": "ipython3",
   "version": "3.10.12"
  }
 },
 "nbformat": 4,
 "nbformat_minor": 5
}
