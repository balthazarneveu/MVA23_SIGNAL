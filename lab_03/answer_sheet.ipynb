{
 "cells": [
  {
   "cell_type": "markdown",
   "metadata": {},
   "source": [
    "## TP3: Reconnaissance de signaux de communication par apprentissage profond\n",
    "\n",
    "Students:\n",
    "- Mathilde Dupouy\n",
    "- Balthazar Neveu"
   ]
  },
  {
   "cell_type": "code",
   "execution_count": 1,
   "metadata": {},
   "outputs": [],
   "source": [
    "# %general imports\n",
    "from data_loader import get_data, SignalsDataset, SAMPLE_DATA_PATH\n",
    "\n",
    "from visualization import visualize_signals\n",
    "from random import randint\n",
    "interactive_flag = True\n",
    "try:\n",
    "    from ipywidgets import interact, IntSlider, fixed\n",
    "    interactive_flag *= True\n",
    "except:\n",
    "    interactive_flag = False\n",
    "\n",
    "%load_ext autoreload\n",
    "%autoreload 2"
   ]
  },
  {
   "cell_type": "markdown",
   "metadata": {},
   "source": [
    "# Data loader\n",
    "@TODO: comment on data, label_dict"
   ]
  },
  {
   "cell_type": "code",
   "execution_count": null,
   "metadata": {},
   "outputs": [],
   "source": [
    "# % data loading from disk\n",
    "signals, snr, labels_id, label_dict = get_data()\n",
    "data_in = [signals, snr, labels_id, label_dict]"
   ]
  },
  {
   "cell_type": "code",
   "execution_count": null,
   "metadata": {},
   "outputs": [],
   "source": [
    "# % interactive visualization\n",
    "data_in = [signals, snr, labels_id, label_dict]\n",
    "if interactive_flag:\n",
    "    interact(\n",
    "        visualize_signals,\n",
    "        data_in = fixed(data_in),\n",
    "        idx=IntSlider(min=0, max=signals.shape[0]-1, step=1))\n",
    "else:\n",
    "    for idx in range(5):\n",
    "        visualize_signals(data_in = data_in, idx=randint(0, signals.shape[0]-1))"
   ]
  },
  {
   "cell_type": "code",
   "execution_count": 2,
   "metadata": {},
   "outputs": [],
   "source": [
    "# % check toy dataloader\n",
    "from data_loader import get_data, SignalsDataset, SAMPLE_DATA_PATH\n",
    "from torch.utils.data import DataLoader\n",
    "N = 8  # batch size\n",
    "C = 2 # number of channels\n",
    "T = 2048 # signal length\n",
    "\n",
    "\n",
    "dataset = SignalsDataset(SAMPLE_DATA_PATH)\n",
    "train_dataloader = DataLoader(dataset, batch_size=8, shuffle=False)\n",
    "batch_signal, batch_labels = next(iter(train_dataloader))\n",
    "assert batch_signal.shape == (N, C, T) # A batch shall be a 8, 2, 2048 tensor"
   ]
  },
  {
   "cell_type": "markdown",
   "metadata": {},
   "source": [
    "## Vanilla classifier"
   ]
  },
  {
   "cell_type": "code",
   "execution_count": 3,
   "metadata": {},
   "outputs": [
    {
     "data": {
      "text/plain": [
       "torch.Size([8, 7])"
      ]
     },
     "execution_count": 3,
     "metadata": {},
     "output_type": "execute_result"
    }
   ],
   "source": [
    "from model import VanillaClassifier\n",
    "device = \"cuda\"\n",
    "model = VanillaClassifier()\n",
    "# model.to(device)\n",
    "# Sanity check on inference\n",
    "model(batch_signal).shape"
   ]
  }
 ],
 "metadata": {
  "kernelspec": {
   "display_name": "Python 3",
   "language": "python",
   "name": "python3"
  },
  "language_info": {
   "codemirror_mode": {
    "name": "ipython",
    "version": 3
   },
   "file_extension": ".py",
   "mimetype": "text/x-python",
   "name": "python",
   "nbconvert_exporter": "python",
   "pygments_lexer": "ipython3",
   "version": "3.10.12"
  }
 },
 "nbformat": 4,
 "nbformat_minor": 2
}
