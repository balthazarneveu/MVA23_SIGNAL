{
 "cells": [
  {
   "cell_type": "markdown",
   "metadata": {},
   "source": [
    "## TP3: Reconnaissance de signaux de communication par apprentissage profond\n",
    "\n",
    "Students:\n",
    "- Mathilde Dupouy\n",
    "- Balthazar Neveu"
   ]
  },
  {
   "cell_type": "code",
   "execution_count": 43,
   "metadata": {},
   "outputs": [
    {
     "name": "stdout",
     "output_type": "stream",
     "text": [
      "The autoreload extension is already loaded. To reload it, use:\n",
      "  %reload_ext autoreload\n"
     ]
    }
   ],
   "source": [
    "# %general imports\n",
    "from data_loader import get_data\n",
    "\n",
    "from visualization import visualize_signals\n",
    "from random import randint\n",
    "interactive_flag = True\n",
    "try:\n",
    "    from ipywidgets import interact, IntSlider, fixed\n",
    "    interactive_flag *= True\n",
    "except:\n",
    "    interactive_flag = False\n",
    "\n",
    "%load_ext autoreload\n",
    "%autoreload 2"
   ]
  },
  {
   "cell_type": "markdown",
   "metadata": {},
   "source": [
    "# Data loader\n",
    "@TODO: comment on data, label_dict"
   ]
  },
  {
   "cell_type": "code",
   "execution_count": 40,
   "metadata": {},
   "outputs": [],
   "source": [
    "# % data loading from disk\n",
    "signals, snr, labels_id, label_dict = get_data()\n",
    "data_in = [signals, snr, labels_id, label_dict]"
   ]
  },
  {
   "cell_type": "code",
   "execution_count": 42,
   "metadata": {},
   "outputs": [
    {
     "data": {
      "application/vnd.jupyter.widget-view+json": {
       "model_id": "af8eb6d9635f42de93e2aa21e663be93",
       "version_major": 2,
       "version_minor": 0
      },
      "text/plain": [
       "interactive(children=(IntSlider(value=0, description='idx', max=199), Output()), _dom_classes=('widget-interac…"
      ]
     },
     "metadata": {},
     "output_type": "display_data"
    }
   ],
   "source": [
    "# % interactive visualization\n",
    "data_in = [signals, snr, labels_id, label_dict]\n",
    "if interactive_flag:\n",
    "    interact(\n",
    "        visualize_signals,\n",
    "        data_in = fixed(data_in),\n",
    "        idx=IntSlider(min=0, max=signals.shape[0]-1, step=1))\n",
    "else:\n",
    "    for idx in range(5):\n",
    "        visualize_signals(data_in = data_in, idx=randint(0, signals.shape[0]-1))"
   ]
  },
  {
   "cell_type": "markdown",
   "metadata": {},
   "source": []
  }
 ],
 "metadata": {
  "kernelspec": {
   "display_name": "Python 3",
   "language": "python",
   "name": "python3"
  },
  "language_info": {
   "codemirror_mode": {
    "name": "ipython",
    "version": 3
   },
   "file_extension": ".py",
   "mimetype": "text/x-python",
   "name": "python",
   "nbconvert_exporter": "python",
   "pygments_lexer": "ipython3",
   "version": "3.10.12"
  }
 },
 "nbformat": 4,
 "nbformat_minor": 2
}
