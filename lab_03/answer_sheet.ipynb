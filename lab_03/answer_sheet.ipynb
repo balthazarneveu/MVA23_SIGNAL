{
 "cells": [
  {
   "cell_type": "code",
   "execution_count": 33,
   "metadata": {},
   "outputs": [
    {
     "name": "stdout",
     "output_type": "stream",
     "text": [
      "The autoreload extension is already loaded. To reload it, use:\n",
      "  %reload_ext autoreload\n"
     ]
    }
   ],
   "source": [
    "from data_loader import get_data\n",
    "from visualization import visualize_signals\n",
    "%load_ext autoreload\n",
    "%autoreload 2"
   ]
  },
  {
   "cell_type": "markdown",
   "metadata": {},
   "source": [
    "# Data loader\n"
   ]
  },
  {
   "cell_type": "code",
   "execution_count": 34,
   "metadata": {},
   "outputs": [],
   "source": [
    "signals, snr, labels_id, label_dict = get_data()\n",
    "data_in = [signals, snr, labels_id, label_dict]"
   ]
  },
  {
   "cell_type": "code",
   "execution_count": 36,
   "metadata": {},
   "outputs": [
    {
     "data": {
      "application/vnd.jupyter.widget-view+json": {
       "model_id": "d25246f921bc431db9d113be3b324217",
       "version_major": 2,
       "version_minor": 0
      },
      "text/plain": [
       "interactive(children=(IntSlider(value=0, description='idx', max=199), Output()), _dom_classes=('widget-interac…"
      ]
     },
     "metadata": {},
     "output_type": "display_data"
    }
   ],
   "source": [
    "# % interactive visualization\n",
    "from random import randint\n",
    "interactive_flag = True\n",
    "try:\n",
    "    from ipywidgets import interact, IntSlider, fixed\n",
    "    interactive_flag *= True\n",
    "except:\n",
    "    interactive_flag = False\n",
    "data_in = [signals, snr, labels_id, label_dict]\n",
    "if interactive_flag:\n",
    "    interact(\n",
    "        visualize_signals,\n",
    "        data_in = fixed(data_in),\n",
    "        idx=IntSlider(min=0, max=signals.shape[0]-1, step=1))\n",
    "else:\n",
    "    for idx in range(5):\n",
    "        visualize_signals(data_in = data_in, idx=randint(0, signals.shape[0]-1))"
   ]
  },
  {
   "cell_type": "markdown",
   "metadata": {},
   "source": []
  }
 ],
 "metadata": {
  "kernelspec": {
   "display_name": "Python 3",
   "language": "python",
   "name": "python3"
  },
  "language_info": {
   "codemirror_mode": {
    "name": "ipython",
    "version": 3
   },
   "file_extension": ".py",
   "mimetype": "text/x-python",
   "name": "python",
   "nbconvert_exporter": "python",
   "pygments_lexer": "ipython3",
   "version": "3.10.12"
  }
 },
 "nbformat": 4,
 "nbformat_minor": 2
}
