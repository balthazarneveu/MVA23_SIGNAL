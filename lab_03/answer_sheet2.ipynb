{
 "cells": [
  {
   "cell_type": "code",
   "execution_count": null,
   "metadata": {},
   "outputs": [],
   "source": []
  },
  {
   "cell_type": "markdown",
   "metadata": {},
   "source": [
    "### Data analysis\n",
    "The signals are from 6 classes depending on their modulation type, the pilot sequences (presence or not, protocol of alternance with the meaningful data), and the transmission rate. Thus the time is of huge importance in the signal has two types of sequences can alternate sequentially, the transmission rate is lost during demodulation but the frequency bandwidth arond 0 may differ.\n",
    "As the signals are represented by IQ signals, a good representation is a plot in the complex plane, hence it reveals the different constellation used, for exemple isotropic or not, or rotated due to the noise from transposition. As the signals are the SNR of the data is available, we can also qualitatively see that the quality of the observed constellation is low for low SNRs (for instance 0 dB, the signal and the noise have the same power). An exemple for the class N-QAM16 is illustrated below, Figure 1 and 2. For a SNR of 30dB, the density is concentrated around a rotated grid : this is the constellation. There is a distribuion of points outside the constaellation that can be due to the inference received from non-direct trajectories;\n",
    "\n",
    "<div style=\"display: flex; flex-direction: row;\">\n",
    "    <figure>\n",
    "        <img src=\"figures/data_NQAM16_SNR0.png\" alt=\"Figure 1\" width=\"400\"/>\n",
    "        <figcaption>Figure 1: Signal from class N-QAM16 with a SNR of 0dB. </figcaption>\n",
    "    </figure>\n",
    "    /Data/code/signal_speech/lab_03/figures/\n",
    "    <figure>\n",
    "        <img src=\"figures/data_NQAM16_SNR30.png\" alt=\"Figure 2\" width=\"400\"/>\n",
    "        <figcaption>Figure 2: Signal from class N-QAM16 with a SNR of 0dB.</figcaption>\n",
    "    </figure>\n",
    "</div>\n",
    "\n"
   ]
  },
  {
   "cell_type": "markdown",
   "metadata": {},
   "source": [
    "### Confusion matrix analysis\n",
    "As we are working on a segmentation task, the results can be represented in a confusion matrix. The higher the values on the diagonal are, the better is the classification. Figure *X* shows the confusions matrices for each SNR for the experiment 7 **described before**. We observe that the higher SNRs lead to a higher accuracy (the diagonal is darker) and the performance drops with the SNR. This is a desirable behaviour for our network as it indicates that patterns are better found when they are easier to detect. The network has learned a good generalisation. Another interesting information from the confusion matrix is that the main source of error is the confusion of the classes W-PSK8-V1 and W-PSK8-V2, yet this classes are theoritically close has they share the same modulation and pilot sequences. From the confusion matrix of SNR 0dB, we can see two blocks of confusion : the network performs well in classifying the two types of pilot sequences (maybe N = without and W = with) and fails in classifying modulation, for example py  over predicting QAM16 rather than PSK8. The previous observation of the signals highlight that classifying the modulation is a more complex task for low SNRs.\n",
    "\n",
    "<div style=\"display: flex; flex-direction: row;\">\n",
    "    <figure>\n",
    "        <img src=\"figures/confmatrix_exp007.png\" alt=\"Figure Y\" width=\"900\"/>\n",
    "        <figcaption>Figure Y: Confusion matrices by SNR for experiment 007 (Slim convolutional model) </figcaption>\n",
    "    </figure>\n",
    "</div>\n",
    "\n",
    "For the flexible models, that achieve higher performances, we can see a very high accuracy for high SNR (see Figure Y). The differences between the higher obtained accuracy mainly distinguish on their performances for low SNRs. For instance, the experiment 62 confuses two classes for low SNRs. \n",
    "\n",
    "\n",
    "<div style=\"display: flex; flex-direction: row;\">\n",
    "    <figure>\n",
    "        <img src=\"figures/confmatrix_exp60.png\" alt=\"Figure Z\" width=\"900\"/>\n",
    "        <figcaption>Figure Z: Confusion matrices by SNR for experiment 60 (FlexConv) </figcaption>\n",
    "    </figure>\n",
    "</div>\n",
    "<div style=\"display: flex; flex-direction: row;\">\n",
    "    <figure>\n",
    "        <img src=\"figures/confmatrix_exp62.png\" alt=\"Figure Y\" width=\"900\"/>\n",
    "        <figcaption>Figure Y: Confusion matrices by SNR for experiment 62 (FlexConv) </figcaption>\n",
    "    </figure>\n",
    "</div>\n"
   ]
  },
  {
   "cell_type": "markdown",
   "metadata": {},
   "source": []
  }
 ],
 "metadata": {
  "language_info": {
   "name": "python"
  }
 },
 "nbformat": 4,
 "nbformat_minor": 2
}
