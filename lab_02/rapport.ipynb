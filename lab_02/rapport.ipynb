{
 "cells": [
  {
   "cell_type": "markdown",
   "metadata": {},
   "source": [
    "# Rapport\n",
    "## Phase exploratoire\n",
    "On commence par chercher des critères simples (statistiques basiques des signaux)  pour classifier les données.\n",
    "\n",
    "### Min puissance\n",
    "- Si on fait défiler les signaux de puissance en figeant l'échelle verticale, nous remarquons clairement un \"paquet\" au dessus des autres.\n",
    "- Un descripteur très simple pour discriminer la menace correspond au mimimum de la puissance. On sait déjà qu'il n'est pas suffisant (au vu du gros \"paquet\" vert et rouge)\n",
    "\n",
    "![](figures/superposition_signaux_puissance.png)\n",
    "\n",
    "\n",
    "### Moyenne et puissance des fréquences\n",
    "\n",
    "- L'étude de l'évolution temporelle des fréquences ne révèle pas de fluctuations perceptibles (signaux stationnaires).\n",
    "\n",
    "![](figures/superposition_signaux_frequence.png)\n",
    "\n",
    "- On peut simplement évaluer les moments et ainsi tracer la distribution moyenne des fréquences ainsi que l'écart type\n",
    "\n",
    "\n",
    "\n",
    "En poussant un peu l'étude manuelle des caractéristiques, on commence à arriver à distinguer quelques groupes:\n",
    "- écart type(1/fréquence)/moyenne(1/fréquence)\n",
    "- min(puissance)\n",
    "\n",
    "![](figures/x=freq_avg_y=freq_std_div_freq_avg.png)\n",
    "\n",
    "\n",
    "Un arbre de décision devrait permettre de classifier les données (partitionner l'espace en plusieurs rectangles).\n"
   ]
  },
  {
   "cell_type": "markdown",
   "metadata": {},
   "source": []
  }
 ],
 "metadata": {
  "kernelspec": {
   "display_name": "Python 3",
   "language": "python",
   "name": "python3"
  },
  "language_info": {
   "codemirror_mode": {
    "name": "ipython",
    "version": 3
   },
   "file_extension": ".py",
   "mimetype": "text/x-python",
   "name": "python",
   "nbconvert_exporter": "python",
   "pygments_lexer": "ipython3",
   "version": "3.10.12"
  }
 },
 "nbformat": 4,
 "nbformat_minor": 2
}
