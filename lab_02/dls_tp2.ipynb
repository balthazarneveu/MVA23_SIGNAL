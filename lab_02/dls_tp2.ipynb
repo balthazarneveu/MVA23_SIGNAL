{
 "cells": [
  {
   "cell_type": "code",
   "execution_count": null,
   "id": "f4161562",
   "metadata": {},
   "outputs": [],
   "source": [
    "#!pip install numpy\n",
    "#!pip install sklearn"
   ]
  },
  {
   "cell_type": "code",
   "execution_count": null,
   "id": "13021c9d",
   "metadata": {},
   "outputs": [],
   "source": [
    "import numpy as np\n",
    "import sklearn as skl"
   ]
  },
  {
   "cell_type": "code",
   "execution_count": 1,
   "id": "c2163fa8",
   "metadata": {},
   "outputs": [
    {
     "data": {
      "text/html": [
       "\n",
       "<style>\n",
       ".consignes{\n",
       "  font-weight: bold;\n",
       "  color: #3256a8;\n",
       "  background-color: #edebdf\n",
       "}\n",
       "</style>\n"
      ],
      "text/plain": [
       "<IPython.core.display.HTML object>"
      ]
     },
     "execution_count": 1,
     "metadata": {},
     "output_type": "execute_result"
    }
   ],
   "source": [
    "from IPython.core.display import HTML\n",
    "HTML(\"\"\"\n",
    "<style>\n",
    ".consignes{\n",
    "  font-weight: bold;\n",
    "  color: #3256a8;\n",
    "  background-color: #edebdf\n",
    "}\n",
    "</style>\n",
    "\"\"\")\n",
    "\n"
   ]
  },
  {
   "cell_type": "markdown",
   "id": "955fef7e",
   "metadata": {},
   "source": [
    "# TP2: Détection de menaces radar\n",
    "\n",
    "<div class=consignes> Listez les noms des étudiants (2 au maximum) ayant participé à ce notebook dans la cellule suivante (prénom, nom, affectation).<br/>\n",
    "Au moment du rendu, le notebook doit être nommé nom1_nom2_dlts_tp2.ipynb \n",
    "\n",
    "2 séances de TP sur ce sujet : le 18 octobre (1h30) et le 25 octobre (3h).<br> \n",
    "Deadline : 8 novembre 2023, 11h59, par mail à deepetsignal.mva@gmail.com <br> \n",
    "\n",
    "Pour installer les paquets nécessaires à la réalisation de ce TP vous pouvez utiliser dans le notebook \n",
    "    \n",
    "```\n",
    "!pip install \\< nom_du_paquet \\>\n",
    "```\n",
    "merci de regrouper toutes les installations dans la première cellule du notebook. \n",
    "Essayez de faire en sorte que votre notebook puisse se lire comme un compte rendu, évitez de laisser du code mort et prennez le temps de commenter vos observations et résultats.\n",
    "    \n",
    "## Mission\n",
    "\n",
    "\n",
    "Vous commandez un avion de reconnaissance en mission top secrète. Malgré votre discretion et toutes les précautions prises vous dérangez et pouvez être sujet de menaces qu'il vous faut détecter pour garantir la sécurité de votre équipage et la succès de votre mission (comme elle est top secrète vous ne pouvez pas en savoir plus). \n",
    "\n",
    "A votre disposition un réseau d'antennes et un système d'analyse spectrale perfectionnés vous permettent d'extraire et de caractériser des signaux en provenance des radars à altitude 0 qui parsèment votre parcours. \n",
    "\n",
    "Un signal radar est composé d'impulsions. Le système d'analyse vous permettent de caractériser chaque impulsion reçue par un PDW (Pulse Description Word) qui contient: \n",
    "\n",
    "- la date de début de détection de l'impulsion (en ms)\n",
    "- la largeur ou durée de l'impulsion (en ms)\n",
    "- la puissance de l'impulsion (en dB / référence) \n",
    "- l'angle theta et l'angle phi décrivant la direction dans laquelle l'impulsion est détectée (en radians)\n",
    "- la fréquence de l'impulsion (en Ghz)\n",
    "\n",
    "Votre capteur n'est pas parfait et vous subissez notamment un phénomène de mitage: une certaine proportion des impulsions émises ne sont pas détectées. Cette proportion est d'autant plus grande que la puissance des impulsions est petite.  \n",
    "\n",
    "Votre vaisseau navigue à 10 km d'altitude, avec une vitesse constante de 1000 km/h vers le nord. \n",
    "\n",
    "De précédentes missions ont permis de réaliser une base de données de signaux de 10 secondes. \n",
    "Chaque signal se présente sous la forme d'un fichier .npz qui contient l'ensemble des PDW reçus. \n",
    "\n",
    "Un signal est donc un fichier dont le nom est de la forme 'pdw_<numéro du signal>.npz'.\n",
    "\n",
    "Cette base de données est annotée: le destin de chaque mission a permis de déclarer chaque signal comme une 'menace' ou une 'nonmenace'. \n",
    "\n",
    "Les signaux ont été divisés en deux ensembles indépendants: \n",
    "    \n",
    "- train\n",
    "- test \n",
    " \n",
    "Les annotations pour chaque ensemble sont disponibles dans le fichier labels_<train ou test>.json qui donne l'association nom de fichier -> menace ou nonmenace. \n",
    "    \n",
    "    \n",
    "Votre mission (si vous l'acceptez) est de choisir et d'entrainer un algorithme d'apprentissage machine à détecter les menaces sur l'ensemble 'train' et à évaluer ses performances sur l'ensemble 'test'. \n",
    "\n",
    "Fort de votre expérience passée, vous décidez de suivre la méthodologie suivante: \n",
    "\n",
    "- Visualisation et analyse des données pour trouver les paramètres les plus pertinents à utiliser \n",
    "- Sélection d'un algorithme naïf \"baseline\" de référence: vous définissez un premier algorithme simple et caractérisez ses performances qui serviront de point de comparaison pour qualifier l'apport d'algorithmes plus sophistiqués \n",
    "- Vous utilisez la bibliothèque sklearn et notamment ses implémentations d'algorithmes de classification binaire pour définir et entrainer sur l'ensemble 'train' un ou plusieurs algorithmes en capacité de prédire le label menance ou nonmenace de chaque signal (https://scikit-learn.org/stable/auto_examples/classification/plot_classifier_comparison.html)\n",
    "- Vous qualifiez les performances de vos algorithmes en termes d'accuracy (https://scikit-learn.org/stable/modules/generated/sklearn.metrics.accuracy_score.html#sklearn.metrics.accuracy_score) ; vous calculez aussi les matrices de confusion (https://scikit-learn.org/stable/modules/generated/sklearn.metrics.confusion_matrix.html#sklearn.metrics.confusion_matrix)\n",
    "    \n",
    "Pour ce TP nous ne cherchons pas à mettre en place des algorithmes d'apprentissage profond. Ces méthodes pourront être investiguées dans un deuxième temps.\n",
    "    \n",
    " Si les résultats vous semblent décevants, souvenez vous des conseils de votre prédecesseur et mentor G. Abitbol: \"toujours donner un coup de pouce à un algo de machine learning  en lui présentant les bonnes données\"\n",
    "\n",
    "Vous pouvez ouvrir un fichier de la façon suivante:\n",
    "\n",
    "</div>    "
   ]
  },
  {
   "cell_type": "code",
   "execution_count": null,
   "id": "5d29ff7a",
   "metadata": {},
   "outputs": [],
   "source": [
    "pdws = np.load('./radars/train/pdw-0.npz')\n",
    "dates = pdws['date']\n",
    "largeurs = pdws['largeur']\n",
    "frequences=pdws['puissance']\n",
    "puissances = pdws['puissance']\n",
    "theta = pdws['theta']\n",
    "phi = pdws['phi']\n"
   ]
  },
  {
   "cell_type": "markdown",
   "id": "2227d6c1",
   "metadata": {},
   "source": [
    "<div class=consignes> et les fichiers d'annotations:</div>"
   ]
  },
  {
   "cell_type": "code",
   "execution_count": null,
   "id": "899bbbe1",
   "metadata": {},
   "outputs": [],
   "source": [
    "import json\n",
    "\n",
    "with open('./radars/train_labels.json') as f: \n",
    "    dict_labels = json.load(f)\n",
    "\n",
    "for i in range(10):\n",
    "    print(f\"Le signal pdw-{i}.npz est de type: {dict_labels[f'pdw-{i}']}\")"
   ]
  },
  {
   "cell_type": "markdown",
   "id": "ca9d9a5d",
   "metadata": {},
   "source": [
    "<div class=consignes> On compte sur vous, bonne chance ! </div>"
   ]
  },
  {
   "cell_type": "code",
   "execution_count": null,
   "id": "a0bbbf7c",
   "metadata": {},
   "outputs": [],
   "source": []
  }
 ],
 "metadata": {
  "kernelspec": {
   "display_name": "Python 3 (ipykernel)",
   "language": "python",
   "name": "python3"
  },
  "language_info": {
   "codemirror_mode": {
    "name": "ipython",
    "version": 3
   },
   "file_extension": ".py",
   "mimetype": "text/x-python",
   "name": "python",
   "nbconvert_exporter": "python",
   "pygments_lexer": "ipython3",
   "version": "3.8.10"
  }
 },
 "nbformat": 4,
 "nbformat_minor": 5
}
