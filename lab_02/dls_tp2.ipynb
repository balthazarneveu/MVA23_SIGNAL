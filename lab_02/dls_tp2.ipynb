{
 "cells": [
  {
   "cell_type": "code",
   "execution_count": null,
   "id": "f4161562",
   "metadata": {},
   "outputs": [],
   "source": [
    "#!pip install numpy\n",
    "#!pip install sklearn"
   ]
  },
  {
   "cell_type": "code",
   "execution_count": 1,
   "id": "13021c9d",
   "metadata": {},
   "outputs": [],
   "source": [
    "import numpy as np\n",
    "import sklearn as skl\n",
    "import json\n",
    "import pandas as pd\n",
    "from ipywidgets import interact, IntSlider\n",
    "import matplotlib.pyplot as plt\n",
    "from sklearn.tree import DecisionTreeClassifier\n",
    "from sklearn.metrics import accuracy_score"
   ]
  },
  {
   "cell_type": "code",
   "execution_count": 2,
   "id": "e5ffc03f",
   "metadata": {},
   "outputs": [],
   "source": [
    "%matplotlib inline"
   ]
  },
  {
   "cell_type": "code",
   "execution_count": 3,
   "id": "c2163fa8",
   "metadata": {},
   "outputs": [
    {
     "data": {
      "text/html": [
       "\n",
       "<style>\n",
       ".consignes{\n",
       "  font-weight: bold;\n",
       "  color: #3256a8;\n",
       "  background-color: #edebdf\n",
       "}\n",
       "</style>\n"
      ],
      "text/plain": [
       "<IPython.core.display.HTML object>"
      ]
     },
     "execution_count": 3,
     "metadata": {},
     "output_type": "execute_result"
    }
   ],
   "source": [
    "from IPython.core.display import HTML\n",
    "HTML(\"\"\"\n",
    "<style>\n",
    ".consignes{\n",
    "  font-weight: bold;\n",
    "  color: #3256a8;\n",
    "  background-color: #edebdf\n",
    "}\n",
    "</style>\n",
    "\"\"\")\n",
    "\n"
   ]
  },
  {
   "cell_type": "markdown",
   "id": "955fef7e",
   "metadata": {},
   "source": [
    "# TP2: Détection de menaces radar\n",
    "\n",
    "<div class=consignes> Listez les noms des étudiants (2 au maximum) ayant participé à ce notebook dans la cellule suivante (prénom, nom, affectation).<br/>\n",
    "Au moment du rendu, le notebook doit être nommé nom1_nom2_dlts_tp2.ipynb \n",
    "\n",
    "2 séances de TP sur ce sujet : le 18 octobre (1h30) et le 25 octobre (3h).<br> \n",
    "Deadline : 8 novembre 2023, 11h59, par mail à deepetsignal.mva@gmail.com <br> \n",
    "\n",
    "Pour installer les paquets nécessaires à la réalisation de ce TP vous pouvez utiliser dans le notebook \n",
    "    \n",
    "```\n",
    "!pip install \\< nom_du_paquet \\>\n",
    "```\n",
    "merci de regrouper toutes les installations dans la première cellule du notebook. \n",
    "Essayez de faire en sorte que votre notebook puisse se lire comme un compte rendu, évitez de laisser du code mort et prennez le temps de commenter vos observations et résultats.\n",
    "    \n",
    "## Mission\n",
    "\n",
    "\n",
    "Vous commandez un avion de reconnaissance en mission top secrète. Malgré votre discretion et toutes les précautions prises vous dérangez et pouvez être sujet de menaces qu'il vous faut détecter pour garantir la sécurité de votre équipage et la succès de votre mission (comme elle est top secrète vous ne pouvez pas en savoir plus). \n",
    "\n",
    "A votre disposition un réseau d'antennes et un système d'analyse spectrale perfectionnés vous permettent d'extraire et de caractériser des signaux en provenance des radars à altitude 0 qui parsèment votre parcours. \n",
    "\n",
    "Un signal radar est composé d'impulsions. Le système d'analyse vous permettent de caractériser chaque impulsion reçue par un PDW (Pulse Description Word) qui contient: \n",
    "\n",
    "- la date de début de détection de l'impulsion (en ms)\n",
    "- la largeur ou durée de l'impulsion (en ms)\n",
    "- la puissance de l'impulsion (en dB / référence) \n",
    "- l'angle theta et l'angle phi décrivant la direction dans laquelle l'impulsion est détectée (en radians)\n",
    "- la fréquence de l'impulsion (en Ghz)\n",
    "\n",
    "Votre capteur n'est pas parfait et vous subissez notamment un phénomène de mitage: une certaine proportion des impulsions émises ne sont pas détectées. Cette proportion est d'autant plus grande que la puissance des impulsions est petite.  \n",
    "\n",
    "Votre vaisseau navigue à 10 km d'altitude, avec une vitesse constante de 1000 km/h vers le nord. \n",
    "\n",
    "De précédentes missions ont permis de réaliser une base de données de signaux de 10 secondes. \n",
    "Chaque signal se présente sous la forme d'un fichier .npz qui contient l'ensemble des PDW reçus. \n",
    "\n",
    "Un signal est donc un fichier dont le nom est de la forme 'pdw_<numéro du signal>.npz'.\n",
    "\n",
    "Cette base de données est annotée: le destin de chaque mission a permis de déclarer chaque signal comme une 'menace' ou une 'nonmenace'. \n",
    "\n",
    "Les signaux ont été divisés en deux ensembles indépendants: \n",
    "    \n",
    "- train\n",
    "- test \n",
    " \n",
    "Les annotations pour chaque ensemble sont disponibles dans le fichier labels_<train ou test>.json qui donne l'association nom de fichier -> menace ou nonmenace. \n",
    "    \n",
    "    \n",
    "Votre mission (si vous l'acceptez) est de choisir et d'entrainer un algorithme d'apprentissage machine à détecter les menaces sur l'ensemble 'train' et à évaluer ses performances sur l'ensemble 'test'. \n",
    "\n",
    "Fort de votre expérience passée, vous décidez de suivre la méthodologie suivante: \n",
    "\n",
    "- Visualisation et analyse des données pour trouver les paramètres les plus pertinents à utiliser \n",
    "- Sélection d'un algorithme naïf \"baseline\" de référence: vous définissez un premier algorithme simple et caractérisez ses performances qui serviront de point de comparaison pour qualifier l'apport d'algorithmes plus sophistiqués \n",
    "- Vous utilisez la bibliothèque sklearn et notamment ses implémentations d'algorithmes de classification binaire pour définir et entrainer sur l'ensemble 'train' un ou plusieurs algorithmes en capacité de prédire le label menance ou nonmenace de chaque signal (https://scikit-learn.org/stable/auto_examples/classification/plot_classifier_comparison.html)\n",
    "- Vous qualifiez les performances de vos algorithmes en termes d'accuracy (https://scikit-learn.org/stable/modules/generated/sklearn.metrics.accuracy_score.html#sklearn.metrics.accuracy_score) ; vous calculez aussi les matrices de confusion (https://scikit-learn.org/stable/modules/generated/sklearn.metrics.confusion_matrix.html#sklearn.metrics.confusion_matrix)\n",
    "    \n",
    "Pour ce TP nous ne cherchons pas à mettre en place des algorithmes d'apprentissage profond. Ces méthodes pourront être investiguées dans un deuxième temps.\n",
    "    \n",
    " Si les résultats vous semblent décevants, souvenez vous des conseils de votre prédecesseur et mentor G. Abitbol: \"toujours donner un coup de pouce à un algo de machine learning  en lui présentant les bonnes données\"\n",
    "\n",
    "Vous pouvez ouvrir un fichier de la façon suivante:\n",
    "\n",
    "</div>    "
   ]
  },
  {
   "cell_type": "code",
   "execution_count": 4,
   "id": "5d29ff7a",
   "metadata": {},
   "outputs": [
    {
     "name": "stdout",
     "output_type": "stream",
     "text": [
      "Le signal pdw-0.npz est de type: nonmenace\n",
      "Le signal pdw-1.npz est de type: nonmenace\n",
      "Le signal pdw-2.npz est de type: menace\n",
      "Le signal pdw-3.npz est de type: nonmenace\n",
      "Le signal pdw-4.npz est de type: nonmenace\n",
      "Le signal pdw-5.npz est de type: menace\n",
      "Le signal pdw-6.npz est de type: menace\n",
      "Le signal pdw-7.npz est de type: menace\n",
      "Le signal pdw-8.npz est de type: menace\n",
      "Le signal pdw-9.npz est de type: nonmenace\n"
     ]
    }
   ],
   "source": [
    "pdws = np.load('./radars/train/pdw-0.npz')\n",
    "dates = pdws['date']\n",
    "largeurs = pdws['largeur']\n",
    "frequences=pdws['frequence']\n",
    "puissances = pdws['puissance']\n",
    "theta = pdws['theta']\n",
    "phi = pdws['phi']\n",
    "\n",
    "with open('./radars/train_labels.json') as f: \n",
    "    dict_labels = json.load(f)\n",
    "\n",
    "for i in range(10):\n",
    "    print(f\"Le signal pdw-{i}.npz est de type: {dict_labels[f'pdw-{i}']}\")"
   ]
  },
  {
   "cell_type": "markdown",
   "id": "d61a0dc9",
   "metadata": {},
   "source": [
    "# Analyse visuelle des signaux"
   ]
  },
  {
   "cell_type": "code",
   "execution_count": 7,
   "id": "d976934c",
   "metadata": {},
   "outputs": [
    {
     "data": {
      "application/vnd.jupyter.widget-view+json": {
       "model_id": "7fff2ff107d24920b046e21be10e66d7",
       "version_major": 2,
       "version_minor": 0
      },
      "text/plain": [
       "interactive(children=(IntSlider(value=0, description='idx', max=799), Output()), _dom_classes=('widget-interac…"
      ]
     },
     "metadata": {},
     "output_type": "display_data"
    }
   ],
   "source": [
    "from ipywidgets import interact, IntSlider\n",
    "import matplotlib.pyplot as plt\n",
    "def visualize(idx):\n",
    "    pdws = np.load(f'./radars/train/pdw-{idx}.npz')\n",
    "    target = dict_labels[f'pdw-{idx}']==\"nonmenace\"\n",
    "    dates = pdws['date']\n",
    "    plt.plot((dates[1:]-dates[:-1])/1000.*(np.mean(pdws[\"frequence\"])*1.E9), (\"g\" if target else \"r\")+\".\", label=\"\")\n",
    "    plt.title(\"interval between timestamps\")\n",
    "    plt.legend()\n",
    "    plt.grid()\n",
    "    # plt.ylim(0, 0.02)\n",
    "    plt.show()\n",
    "    \n",
    "    \n",
    "interact(visualize, idx=IntSlider(min=0, max=799, step=1));"
   ]
  },
  {
   "cell_type": "code",
   "execution_count": 8,
   "id": "d10d4e25",
   "metadata": {},
   "outputs": [
    {
     "data": {
      "application/vnd.jupyter.widget-view+json": {
       "model_id": "7db1ed33b7c2441880cd30ba10531ece",
       "version_major": 2,
       "version_minor": 0
      },
      "text/plain": [
       "interactive(children=(IntSlider(value=0, description='idx', max=799), Output()), _dom_classes=('widget-interac…"
      ]
     },
     "metadata": {},
     "output_type": "display_data"
    }
   ],
   "source": [
    "from ipywidgets import interact, IntSlider\n",
    "import matplotlib.pyplot as plt\n",
    "def visualize(idx):\n",
    "    pdws = np.load(f'./radars/train/pdw-{idx}.npz')\n",
    "    target = dict_labels[f'pdw-{idx}']==\"nonmenace\"\n",
    "    dates = pdws['date']\n",
    "    # for label in [\"largeur\", \"frequence\", \"puissance\", \"theta\", \"phi\"]:\n",
    "    # for label in [\"theta\", \"phi\"]:\n",
    "    for label in [\"puissance\"]:\n",
    "        plt.plot(dates/1000., pdws[label], \"g-\" if target else \"r-\", label=label)\n",
    "        plt.title(label)\n",
    "    plt.legend()\n",
    "    plt.grid()\n",
    "    plt.ylim(-200, -75)\n",
    "    plt.show()\n",
    "    \n",
    "interact(visualize, idx=IntSlider(min=0, max=799, step=1));"
   ]
  },
  {
   "cell_type": "code",
   "execution_count": 9,
   "id": "17565c1c",
   "metadata": {},
   "outputs": [
    {
     "data": {
      "application/vnd.jupyter.widget-view+json": {
       "model_id": "2731e844a38e4a388565d5fab1d6b660",
       "version_major": 2,
       "version_minor": 0
      },
      "text/plain": [
       "interactive(children=(IntSlider(value=0, description='idx', max=799), Output()), _dom_classes=('widget-interac…"
      ]
     },
     "metadata": {},
     "output_type": "display_data"
    }
   ],
   "source": [
    "from ipywidgets import interact, IntSlider\n",
    "import matplotlib.pyplot as plt\n",
    "def visualize(idx):\n",
    "    pdws = np.load(f'./radars/train/pdw-{idx}.npz')\n",
    "    target = dict_labels[f'pdw-{idx}']==\"nonmenace\"\n",
    "    dates = pdws['date']\n",
    "    # for label in [\"largeur\", \"frequence\", \"puissance\", \"theta\", \"phi\"]:\n",
    "    # for label in [\"theta\", \"phi\"]:\n",
    "    for label in [\"puissance\"]:\n",
    "        # plt.plot(dates[:-1]/1000., np.abs(pdws[label][:-1]-pdws[label][1:])/ (dates[1:]-dates[:-1]), \"g-\" if target else \"r-\", label=label)\n",
    "        plt.plot(dates[:-1]/1000., np.abs(pdws[label][:-1]-pdws[label][1:]), \"g-\" if target else \"r-\", label=label)\n",
    "        plt.title(label)\n",
    "    plt.legend()\n",
    "    plt.ylim(0, 20)\n",
    "    plt.grid()\n",
    "    plt.show()\n",
    "    \n",
    "interact(visualize, idx=IntSlider(min=0, max=799, step=1));"
   ]
  },
  {
   "cell_type": "markdown",
   "id": "fbea0a1c",
   "metadata": {},
   "source": []
  },
  {
   "cell_type": "code",
   "execution_count": 10,
   "id": "ec5e97bd",
   "metadata": {},
   "outputs": [
    {
     "data": {
      "text/html": [
       "<div>\n",
       "<style scoped>\n",
       "    .dataframe tbody tr th:only-of-type {\n",
       "        vertical-align: middle;\n",
       "    }\n",
       "\n",
       "    .dataframe tbody tr th {\n",
       "        vertical-align: top;\n",
       "    }\n",
       "\n",
       "    .dataframe thead th {\n",
       "        text-align: right;\n",
       "    }\n",
       "</style>\n",
       "<table border=\"1\" class=\"dataframe\">\n",
       "  <thead>\n",
       "    <tr style=\"text-align: right;\">\n",
       "      <th></th>\n",
       "      <th>largeur</th>\n",
       "      <th>frequence</th>\n",
       "      <th>puissance</th>\n",
       "      <th>theta</th>\n",
       "      <th>phi</th>\n",
       "      <th>menace</th>\n",
       "    </tr>\n",
       "  </thead>\n",
       "  <tbody>\n",
       "    <tr>\n",
       "      <th>0</th>\n",
       "      <td>[0.00029099999999999997, 0.0002911010187641941...</td>\n",
       "      <td>[2222011346.301772, 2201167919.9721026, 221708...</td>\n",
       "      <td>[-125.58248735699023, -115.0846158693843, -108...</td>\n",
       "      <td>[0.9578859532471261, 0.8703978859546783, 0.607...</td>\n",
       "      <td>[1.678935775441994, 1.7243409379102963, 1.6140...</td>\n",
       "      <td>False</td>\n",
       "    </tr>\n",
       "    <tr>\n",
       "      <th>1</th>\n",
       "      <td>[0.00013800000000000002, 0.0001369258365512231...</td>\n",
       "      <td>[3011221070.570557, 2996006530.9250755, 300603...</td>\n",
       "      <td>[-127.176799666022, -157.8781625154061, -137.9...</td>\n",
       "      <td>[2.7962717807754327, -2.829550985701179, -2.48...</td>\n",
       "      <td>[1.5296932038533972, 1.5546468454693552, 1.632...</td>\n",
       "      <td>False</td>\n",
       "    </tr>\n",
       "    <tr>\n",
       "      <th>2</th>\n",
       "      <td>[0.000201, 0.0002018786859303869, 0.000201, 0....</td>\n",
       "      <td>[991990464.3038368, 982743904.1435359, 9898809...</td>\n",
       "      <td>[-149.880060930416, -151.7229884218102, -153.5...</td>\n",
       "      <td>[-2.0412578355641227, -1.9204468635231988, -1....</td>\n",
       "      <td>[1.6722396416013094, 1.7759924411327765, 1.509...</td>\n",
       "      <td>True</td>\n",
       "    </tr>\n",
       "    <tr>\n",
       "      <th>3</th>\n",
       "      <td>[6.800000000000001e-05, 6.928607233324905e-05,...</td>\n",
       "      <td>[1666424017.2021985, 1668061021.2198102, 16641...</td>\n",
       "      <td>[-135.68775777002037, -134.56670065032353, -13...</td>\n",
       "      <td>[-2.621701006244045, -2.2862588398101207, -2.1...</td>\n",
       "      <td>[1.4039557266900524, 1.6190396944122287, 1.690...</td>\n",
       "      <td>False</td>\n",
       "    </tr>\n",
       "    <tr>\n",
       "      <th>4</th>\n",
       "      <td>[0.000324, 0.0003248032831089071, 0.0003248041...</td>\n",
       "      <td>[2207809393.1871147, 2200771938.7002068, 22022...</td>\n",
       "      <td>[-172.60362010919195, -151.87364054688302, -15...</td>\n",
       "      <td>[2.274032092616462, 2.127649080211378, 2.36297...</td>\n",
       "      <td>[1.6134753329852611, 1.6012352706627135, 1.745...</td>\n",
       "      <td>False</td>\n",
       "    </tr>\n",
       "  </tbody>\n",
       "</table>\n",
       "</div>"
      ],
      "text/plain": [
       "                                             largeur  \\\n",
       "0  [0.00029099999999999997, 0.0002911010187641941...   \n",
       "1  [0.00013800000000000002, 0.0001369258365512231...   \n",
       "2  [0.000201, 0.0002018786859303869, 0.000201, 0....   \n",
       "3  [6.800000000000001e-05, 6.928607233324905e-05,...   \n",
       "4  [0.000324, 0.0003248032831089071, 0.0003248041...   \n",
       "\n",
       "                                           frequence  \\\n",
       "0  [2222011346.301772, 2201167919.9721026, 221708...   \n",
       "1  [3011221070.570557, 2996006530.9250755, 300603...   \n",
       "2  [991990464.3038368, 982743904.1435359, 9898809...   \n",
       "3  [1666424017.2021985, 1668061021.2198102, 16641...   \n",
       "4  [2207809393.1871147, 2200771938.7002068, 22022...   \n",
       "\n",
       "                                           puissance  \\\n",
       "0  [-125.58248735699023, -115.0846158693843, -108...   \n",
       "1  [-127.176799666022, -157.8781625154061, -137.9...   \n",
       "2  [-149.880060930416, -151.7229884218102, -153.5...   \n",
       "3  [-135.68775777002037, -134.56670065032353, -13...   \n",
       "4  [-172.60362010919195, -151.87364054688302, -15...   \n",
       "\n",
       "                                               theta  \\\n",
       "0  [0.9578859532471261, 0.8703978859546783, 0.607...   \n",
       "1  [2.7962717807754327, -2.829550985701179, -2.48...   \n",
       "2  [-2.0412578355641227, -1.9204468635231988, -1....   \n",
       "3  [-2.621701006244045, -2.2862588398101207, -2.1...   \n",
       "4  [2.274032092616462, 2.127649080211378, 2.36297...   \n",
       "\n",
       "                                                 phi  menace  \n",
       "0  [1.678935775441994, 1.7243409379102963, 1.6140...   False  \n",
       "1  [1.5296932038533972, 1.5546468454693552, 1.632...   False  \n",
       "2  [1.6722396416013094, 1.7759924411327765, 1.509...    True  \n",
       "3  [1.4039557266900524, 1.6190396944122287, 1.690...   False  \n",
       "4  [1.6134753329852611, 1.6012352706627135, 1.745...   False  "
      ]
     },
     "execution_count": 10,
     "metadata": {},
     "output_type": "execute_result"
    }
   ],
   "source": [
    "# DATA \"UNIFORMIZATION\" -> sample all signals on a regular timeline \n",
    "# Regular timeline = 10 seconds with 100 elements (we may get a bit of aliasing)\n",
    "# Then we may navigate this data as a regular data structure (could fit in an excel).\n",
    "# timestamps are now exactly the same for all signals.\n",
    "\n",
    "\n",
    "# - la date de début de détection de l'impulsion (en ms)\n",
    "# - la largeur ou durée de l'impulsion (en ms)\n",
    "# - la puissance de l'impulsion (en dB / référence) \n",
    "# - l'angle theta et l'angle phi décrivant la direction dans laquelle l'impulsion est détectée (en radians)\n",
    "# - la fréquence de l'impulsion (en Ghz)\n",
    "\n",
    "def homogenize_data(dataset=\"train\"):\n",
    "    data = []\n",
    "    for idx in range(799):\n",
    "        pdws = np.load(f'./radars/{dataset}/pdw-{idx}.npz')\n",
    "        with open(f'./radars/{dataset}_labels.json') as f: \n",
    "            dict_labels_current = json.load(f)\n",
    "        target = dict_labels_current[f'pdw-{idx}']==\"nonmenace\"\n",
    "        dates = pdws['date']\n",
    "        uniform_timestamps = np.linspace(0, 10.E3, 100)\n",
    "        new_dic = {}\n",
    "        for label, scale in [(\"largeur\", 1.E-3), (\"frequence\",1.E9), (\"puissance\" ,1.), (\"theta\", 1.), (\"phi\", 1.)]: #normalize to standard units (Hz, seconds)\n",
    "            non_uniform_value = pdws[label]\n",
    "            regular_sampling = np.interp(uniform_timestamps, xp=dates, fp=non_uniform_value)\n",
    "            new_dic[label] = regular_sampling*scale\n",
    "        new_dic[\"menace\"] = not target\n",
    "        data.append(new_dic)\n",
    "    df = pd.DataFrame.from_dict(data)\n",
    "    return df\n",
    "df = df_train = homogenize_data(dataset=\"train\")\n",
    "df_test = homogenize_data(dataset=\"test\")\n",
    "df.head()"
   ]
  },
  {
   "cell_type": "code",
   "execution_count": null,
   "id": "98080b9a",
   "metadata": {},
   "outputs": [],
   "source": []
  },
  {
   "cell_type": "code",
   "execution_count": 11,
   "id": "9b22cf0c",
   "metadata": {},
   "outputs": [],
   "source": [
    "# HANDCRAFTED FEATURE COMPUTATION\n",
    "def get_hand_crafted_features(df, feature_dimension=None):\n",
    "    inv_freq_mean = np.array([(1./el).mean() for el in df[\"frequence\"]])\n",
    "    freq_feature = np.array([(1./el).std()/((1./el).mean()) for el in df[\"frequence\"]])\n",
    "    min_pow = np.array([el.min() for el in df[\"puissance\"]])\n",
    "    largeur_mean = np.array([el.mean() for el in df[\"largeur\"]])\n",
    "    freq_std = np.array([el.std() for el in df[\"frequence\"]])\n",
    "    std_pow = np.array([el[20:50].std() for el in df[\"puissance\"]])\n",
    "    x = np.stack([freq_std, min_pow, std_pow, freq_feature, inv_freq_mean, largeur_mean], axis=1)\n",
    "    if feature_dimension is not None:\n",
    "        x=x[:, :feature_dimension]\n",
    "    y = [1. if el else 0. for el in df[\"menace\"]]\n",
    "    return x, y\n"
   ]
  },
  {
   "cell_type": "code",
   "execution_count": 12,
   "id": "15857320",
   "metadata": {},
   "outputs": [],
   "source": [
    "x_train, y_train = get_hand_crafted_features(df_train)\n",
    "x_test, y_test = get_hand_crafted_features(df_test)"
   ]
  },
  {
   "cell_type": "code",
   "execution_count": 13,
   "id": "fce84e25",
   "metadata": {},
   "outputs": [
    {
     "name": "stdout",
     "output_type": "stream",
     "text": [
      "#features=1 Tree depth=4 accuracy training 76.3% | accuracy test 75.7%\n",
      "#features=2 Tree depth=4 accuracy training 80.2% | accuracy test 80.0%\n",
      "#features=3 Tree depth=8 accuracy training 83.2% | accuracy test 80.5%\n",
      "#features=4 Tree depth=4 accuracy training 80.2% | accuracy test 80.0%\n"
     ]
    },
    {
     "data": {
      "image/png": "[encoded data removed]",
      "text/plain": [
       "<Figure size 640x480 with 1 Axes>"
      ]
     },
     "metadata": {},
     "output_type": "display_data"
    }
   ],
   "source": [
    "def train_classifier(x_train, x_test, y_train, y_test, feature_dimension=3, debug=False, show=True):\n",
    "    COLOR_LIST = \"rgbckyp\"\n",
    "    if feature_dimension is None:\n",
    "        x_train_shrink, x_test_shrink = x_train, x_test \n",
    "    else:\n",
    "        x_train_shrink, x_test_shrink = x_train[:, :feature_dimension], x_test[:, :feature_dimension]\n",
    "    accuracies = []\n",
    "    depth_list = list(range(1, 10))\n",
    "    for depth in depth_list:\n",
    "        dt = DecisionTreeClassifier(max_depth=depth)\n",
    "        dt.fit(x_train_shrink, y_train)\n",
    "        y_train_pred = dt.predict(x_train_shrink)\n",
    "        y_test_pred = dt.predict(x_test_shrink)\n",
    "        acc_train, acc_test = accuracy_score(y_train, y_train_pred), accuracy_score(y_test, y_test_pred)\n",
    "        accuracies.append([acc_train, acc_test])\n",
    "        # if debug:\n",
    "        #     print(f\"accuracy training {acc_train:.1f} | accuracy test {acc_test:.1f}\")\n",
    "    accuracies = np.array(accuracies)\n",
    "    if debug:\n",
    "        col=COLOR_LIST[(feature_dimension-1)%len(COLOR_LIST)]\n",
    "        plt.plot(depth_list, accuracies[:, 0], \"--\"+col, alpha=0.7, label=f\"accuracy train #{feature_dimension} features\")\n",
    "        plt.plot(depth_list, accuracies[:, 1], \"-\"+col, alpha=0.7, label=f\"accuracy test #{feature_dimension} features\")\n",
    "        plt.legend()\n",
    "        plt.xlabel(\"Depth of the decision tree\")\n",
    "        plt.ylabel(\"Classifier accuracy\")\n",
    "        if show:\n",
    "            plt.grid()\n",
    "            plt.show()\n",
    "    best_depth = np.argmax(accuracies[:, 1])\n",
    "    return accuracies[best_depth, :], depth_list[best_depth]\n",
    "\n",
    "\n",
    "compare_plots = True\n",
    "for feature_dimension in range(1, 5):\n",
    "    accuracies, best_depth = train_classifier(x_train, x_test, y_train, y_test, feature_dimension=feature_dimension, debug=True,  show=not compare_plots)\n",
    "    print(f\"#features={feature_dimension} Tree depth={best_depth} accuracy training {accuracies[0]*100:.1f}% | accuracy test {accuracies[1]*100:.1f}%\")\n",
    "if compare_plots:\n",
    "    plt.grid()\n",
    "    plt.show()"
   ]
  },
  {
   "cell_type": "code",
   "execution_count": null,
   "id": "550ac718",
   "metadata": {},
   "outputs": [],
   "source": [
    "dt"
   ]
  },
  {
   "cell_type": "code",
   "execution_count": null,
   "id": "656112ec",
   "metadata": {},
   "outputs": [],
   "source": [
    "colors = [\"r\" if el else \"g\" for el in df[\"menace\"]]\n",
    "plt.scatter(inv_freq_mean, min_pow, color=colors, alpha=0.5)\n",
    "plt.grid()\n",
    "plt.show()\n",
    "plt.scatter(freq_feature, min_pow, color=colors, alpha=0.5)\n",
    "plt.grid()\n",
    "plt.show()\n",
    "\n",
    "fig = plt.figure()\n",
    "ax = fig.add_subplot(projection='3d')\n",
    "ax.scatter(freq_feature, inv_freq_mean, min_pow, color=colors)\n",
    "plt.show()\n"
   ]
  },
  {
   "cell_type": "code",
   "execution_count": null,
   "id": "8af8b099",
   "metadata": {},
   "outputs": [],
   "source": [
    "colors = [\"r\" if el else \"g\" for el in df[\"menace\"]]\n",
    "for attribute, unit in [(\"frequence\", \"[Hz]\"), (\"largeur\", \"[s]\") , (\"puissance\", \"[db]\")]:\n",
    "    frequences = np.array([el for el in df[attribute]])\n",
    "    for idx in range(len(phi)):\n",
    "        plt.plot(np.linspace(0, 10, len(frequences[idx, :])), frequences[idx, :], \".-\", color=colors[idx], alpha=0.05)\n",
    "    plt.xlabel(\"Time [s]\")\n",
    "    plt.ylabel(f\"{attribute} {unit}\")\n",
    "    plt.title(\"\")\n",
    "    plt.grid()\n",
    "    plt.show()"
   ]
  },
  {
   "cell_type": "code",
   "execution_count": null,
   "id": "74fef536",
   "metadata": {},
   "outputs": [],
   "source": [
    "phi = np.array([el.mean() for el in df[\"phi\"]])\n",
    "theta = np.array([el.mean() for el in df[\"theta\"]])\n",
    "plt.scatter(theta, phi, color=colors, alpha=0.5)\n",
    "plt.show()\n",
    "# no valuable information in the pure angles independantly from the rest of the database"
   ]
  },
  {
   "cell_type": "markdown",
   "id": "88a46f8d",
   "metadata": {},
   "source": [
    "# EXPLORATION"
   ]
  },
  {
   "cell_type": "code",
   "execution_count": null,
   "id": "e4be530d",
   "metadata": {},
   "outputs": [],
   "source": [
    "# colors = np.array([[0., 0., 1.] if el else [1., 0., 0.] for el in df[\"menace\"]])\n",
    "colors = [\"r\" if el else \"g\" for el in df[\"menace\"]]\n",
    "for at1, at2 in [[\"frequence\", \"puissance\"]]:    \n",
    "    attr1, attr2 = 1/np.array([el for el in df[at1]]), np.array([el for el in df[at2]])\n",
    "    plt.xlabeoutputl(f\"1/{at1} mean\");plt.ylabel(f\"{at2} min\")\n",
    "    plt.scatter(attr1.mean(axis=1), attr2.min(axis=1), color=colors, alpha=0.5)\n",
    "    plt.grid()\n",
    "    plt.show()\n"
   ]
  },
  {
   "cell_type": "code",
   "execution_count": null,
   "id": "ac1d63d5",
   "metadata": {},
   "outputs": [],
   "source": [
    "# colors = np.array([[0., 0., 1.] if el else [1., 0., 0.] for el in df[\"menace\"]])\n",
    "colors = [\"r\" if el else \"g\" for el in df[\"menace\"]]\n",
    "for at1, at2 in [[\"frequence\", \"largeur\"]]:    \n",
    "    attr1, attr2 = 1/np.array([el for el in df[at1]]), np.array([el for el in df[at2]])\n",
    "    plt.xlabel(f\"{at1} average\");plt.ylabel(f\"{at2} averaged\")\n",
    "    plt.scatter(attr1.mean(axis=1), attr2.mean(axis=1), color=colors, alpha=0.5)\n",
    "    plt.grid()\n",
    "    plt.show()\n",
    "\n",
    "    \n",
    "    \n",
    "    plt.scatter(attr1.std(axis=1), attr2.std(axis=1), color=colors, alpha=0.5)\n",
    "    plt.xlabel(f\"{at1} std\");plt.ylabel(f\"{at2} std\")\n",
    "    plt.grid()\n",
    "    # plt.ylim(0, 250)\n",
    "    # plt.xlim(0, 0.3E8)\n",
    "    plt.show()\n",
    "\n",
    "\n",
    "\n",
    "    plt.scatter(attr1.mean(axis=1), attr1.std(axis=1), color=colors, alpha=0.5)\n",
    "    plt.xlabel(f\"{at1} avg\");plt.ylabel(f\"{at1} std\")\n",
    "    plt.grid()\n",
    "    plt.show()\n",
    "\n",
    "    plt.scatter(attr2.mean(axis=1), attr2.std(axis=1), color=colors, alpha=0.5)\n",
    "    plt.xlabel(f\"{at2} avg\");plt.ylabel(f\"{at2} std\")\n",
    "    plt.grid()\n",
    "    plt.show()\n"
   ]
  },
  {
   "cell_type": "code",
   "execution_count": null,
   "id": "4619d7f1",
   "metadata": {},
   "outputs": [],
   "source": [
    "plt.scatter(attr1.mean(axis=1), attr1.std(axis=1)/attr1.mean(axis=1), color=colors, alpha=0.5)\n",
    "plt.xlabel(f\"1/{at1} avg\");plt.ylabel(f\"(1/{at1} std)/(1/{at1} avg)\")\n",
    "plt.grid()\n",
    "plt.show()"
   ]
  },
  {
   "cell_type": "code",
   "execution_count": null,
   "id": "44d9a915",
   "metadata": {},
   "outputs": [],
   "source": [
    "plt.scatter(attr1.mean(axis=1), attr1.mean(axis=1)/attr1.std(axis=1), color=colors, alpha=0.5)\n",
    "plt.xlabel(f\"{at1} avg\");plt.ylabel(f\"{at1} std\")\n",
    "plt.grid()\n",
    "plt.show()\n"
   ]
  },
  {
   "cell_type": "code",
   "execution_count": null,
   "id": "3a79f4e4",
   "metadata": {},
   "outputs": [],
   "source": [
    "colors = [\"r\" if el else \"g\" for el in df[\"menace\"]]\n",
    "# plt.plot(np.array([el for el in df[\"theta\"]]), np.array([el for el in df[\"phi\"]]), colors=colors, alpha=0.1)\n",
    "phi, theta = np.array([el for el in df[\"theta\"]]), np.array([el for el in df[\"phi\"]])\n",
    "for idx in range(len(phi)):\n",
    "    if idx%30 ==0:\n",
    "        plt.plot(theta[idx, :], phi[idx, :], \"+\", color=colors[idx], alpha=0.1)\n",
    "plt.xlabel(\"Theta\")\n",
    "plt.ylabel(\"Phi\")\n",
    "plt.grid()\n",
    "plt.show()"
   ]
  },
  {
   "cell_type": "code",
   "execution_count": null,
   "id": "6b210216",
   "metadata": {},
   "outputs": [],
   "source": [
    "colors = np.array([[0., 0., 1.] if el else [1., 0., 0.] for el in df[\"menace\"]])\n",
    "colors = [\"r\" if el else \"g\" for el in df[\"menace\"]]\n",
    "assert len(colors) == len(theta.mean(axis=1)) == len(phi.mean(axis=1)), \"Data lengths do not match.\"\n",
    "plt.grid()\n",
    "plt.xlabel(\"Theta average\");plt.ylabel(\"Phi averaged\")\n",
    "plt.scatter(theta.mean(axis=1), phi.mean(axis=1), color=colors, alpha=0.5)\n",
    "plt.show()\n",
    "\n",
    "plt.grid()\n",
    "plt.ylabel(\"Theta std\");plt.ylabel(\"Phi std\")\n",
    "plt.scatter(theta.std(axis=1), phi.std(axis=1), color=colors, alpha=0.5)\n",
    "plt.show()\n"
   ]
  },
  {
   "cell_type": "markdown",
   "id": "ade93bbd",
   "metadata": {},
   "source": []
  },
  {
   "cell_type": "markdown",
   "id": "2227d6c1",
   "metadata": {},
   "source": [
    "<div class=consignes> et les fichiers d'annotations:</div>"
   ]
  },
  {
   "cell_type": "code",
   "execution_count": null,
   "id": "899bbbe1",
   "metadata": {},
   "outputs": [],
   "source": []
  },
  {
   "cell_type": "markdown",
   "id": "ca9d9a5d",
   "metadata": {},
   "source": [
    "<div class=consignes> On compte sur vous, bonne chance ! </div>"
   ]
  },
  {
   "cell_type": "code",
   "execution_count": null,
   "id": "a0bbbf7c",
   "metadata": {},
   "outputs": [],
   "source": []
  }
 ],
 "metadata": {
  "kernelspec": {
   "display_name": "Python 3 (ipykernel)",
   "language": "python",
   "name": "python3"
  },
  "language_info": {
   "codemirror_mode": {
    "name": "ipython",
    "version": 3
   },
   "file_extension": ".py",
   "mimetype": "text/x-python",
   "name": "python",
   "nbconvert_exporter": "python",
   "pygments_lexer": "ipython3",
   "version": "3.10.12"
  }
 },
 "nbformat": 4,
 "nbformat_minor": 5
}
