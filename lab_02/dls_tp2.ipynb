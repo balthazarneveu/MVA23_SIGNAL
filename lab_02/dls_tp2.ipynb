{
 "cells": [
  {
   "cell_type": "code",
   "execution_count": null,
   "id": "f4161562",
   "metadata": {},
   "outputs": [],
   "source": [
    "#!pip install numpy\n",
    "#!pip install sklearnplt.plot(np.array([el f"
   ]
  },
  {
   "cell_type": "code",
   "execution_count": 1,
   "id": "13021c9d",
   "metadata": {},
   "outputs": [],
   "source": [
    "import numpy as np\n",
    "import sklearn as skl"
   ]
  },
  {
   "cell_type": "code",
   "execution_count": 2,
   "id": "c2163fa8",
   "metadata": {},
   "outputs": [
    {
     "data": {
      "text/html": [
       "\n",
       "<style>\n",
       ".consignes{\n",
       "  font-weight: bold;\n",
       "  color: #3256a8;\n",
       "  background-color: #edebdf\n",
       "}\n",
       "</style>\n"
      ],
      "text/plain": [
       "<IPython.core.display.HTML object>"
      ]
     },
     "execution_count": 2,
     "metadata": {},
     "output_type": "execute_result"
    }
   ],
   "source": [
    "from IPython.core.display import HTML\n",
    "HTML(\"\"\"\n",
    "<style>\n",
    ".consignes{\n",
    "  font-weight: bold;\n",
    "  color: #3256a8;\n",
    "  background-color: #edebdf\n",
    "}\n",
    "</style>\n",
    "\"\"\")\n",
    "\n"
   ]
  },
  {
   "cell_type": "markdown",
   "id": "955fef7e",
   "metadata": {},
   "source": [
    "# TP2: Détection de menaces radar\n",
    "\n",
    "<div class=consignes> Listez les noms des étudiants (2 au maximum) ayant participé à ce notebook dans la cellule suivante (prénom, nom, affectation).<br/>\n",
    "Au moment du rendu, le notebook doit être nommé nom1_nom2_dlts_tp2.ipynb \n",
    "\n",
    "2 séances de TP sur ce sujet : le 18 octobre (1h30) et le 25 octobre (3h).<br> \n",
    "Deadline : 8 novembre 2023, 11h59, par mail à deepetsignal.mva@gmail.com <br> \n",
    "\n",
    "Pour installer les paquets nécessaires à la réalisation de ce TP vous pouvez utiliser dans le notebook \n",
    "    \n",
    "```\n",
    "!pip install \\< nom_du_paquet \\>\n",
    "```\n",
    "merci de regrouper toutes les installations dans la première cellule du notebook. \n",
    "Essayez de faire en sorte que votre notebook puisse se lire comme un compte rendu, évitez de laisser du code mort et prennez le temps de commenter vos observations et résultats.\n",
    "    \n",
    "## Mission\n",
    "\n",
    "\n",
    "Vous commandez un avion de reconnaissance en mission top secrète. Malgré votre discretion et toutes les précautions prises vous dérangez et pouvez être sujet de menaces qu'il vous faut détecter pour garantir la sécurité de votre équipage et la succès de votre mission (comme elle est top secrète vous ne pouvez pas en savoir plus). \n",
    "\n",
    "A votre disposition un réseau d'antennes et un système d'analyse spectrale perfectionnés vous permettent d'extraire et de caractériser des signaux en provenance des radars à altitude 0 qui parsèment votre parcours. \n",
    "\n",
    "Un signal radar est composé d'impulsions. Le système d'analyse vous permettent de caractériser chaque impulsion reçue par un PDW (Pulse Description Word) qui contient: \n",
    "\n",
    "- la date de début de détection de l'impulsion (en ms)\n",
    "- la largeur ou durée de l'impulsion (en ms)\n",
    "- la puissance de l'impulsion (en dB / référence) \n",
    "- l'angle theta et l'angle phi décrivant la direction dans laquelle l'impulsion est détectée (en radians)\n",
    "- la fréquence de l'impulsion (en Ghz)\n",
    "\n",
    "Votre capteur n'est pas parfait et vous subissez notamment un phénomène de mitage: une certaine proportion des impulsions émises ne sont pas détectées. Cette proportion est d'autant plus grande que la puissance des impulsions est petite.  \n",
    "\n",
    "Votre vaisseau navigue à 10 km d'altitude, avec une vitesse constante de 1000 km/h vers le nord. \n",
    "\n",
    "De précédentes missions ont permis de réaliser une base de données de signaux de 10 secondes. \n",
    "Chaque signal se présente sous la forme d'un fichier .npz qui contient l'ensemble des PDW reçus. \n",
    "\n",
    "Un signal est donc un fichier dont le nom est de la forme 'pdw_<numéro du signal>.npz'.\n",
    "\n",
    "Cette base de données est annotée: le destin de chaque mission a permis de déclarer chaque signal comme une 'menace' ou une 'nonmenace'. \n",
    "\n",
    "Les signaux ont été divisés en deux ensembles indépendants: \n",
    "    \n",
    "- train\n",
    "- test \n",
    " \n",
    "Les annotations pour chaque ensemble sont disponibles dans le fichier labels_<train ou test>.json qui donne l'association nom de fichier -> menace ou nonmenace. \n",
    "    \n",
    "    \n",
    "Votre mission (si vous l'acceptez) est de choisir et d'entrainer un algorithme d'apprentissage machine à détecter les menaces sur l'ensemble 'train' et à évaluer ses performances sur l'ensemble 'test'. \n",
    "\n",
    "Fort de votre expérience passée, vous décidez de suivre la méthodologie suivante: \n",
    "\n",
    "- Visualisation et analyse des données pour trouver les paramètres les plus pertinents à utiliser \n",
    "- Sélection d'un algorithme naïf \"baseline\" de référence: vous définissez un premier algorithme simple et caractérisez ses performances qui serviront de point de comparaison pour qualifier l'apport d'algorithmes plus sophistiqués \n",
    "- Vous utilisez la bibliothèque sklearn et notamment ses implémentations d'algorithmes de classification binaire pour définir et entrainer sur l'ensemble 'train' un ou plusieurs algorithmes en capacité de prédire le label menance ou nonmenace de chaque signal (https://scikit-learn.org/stable/auto_examples/classification/plot_classifier_comparison.html)\n",
    "- Vous qualifiez les performances de vos algorithmes en termes d'accuracy (https://scikit-learn.org/stable/modules/generated/sklearn.metrics.accuracy_score.html#sklearn.metrics.accuracy_score) ; vous calculez aussi les matrices de confusion (https://scikit-learn.org/stable/modules/generated/sklearn.metrics.confusion_matrix.html#sklearn.metrics.confusion_matrix)\n",
    "    \n",
    "Pour ce TP nous ne cherchons pas à mettre en place des algorithmes d'apprentissage profond. Ces méthodes pourront être investiguées dans un deuxième temps.\n",
    "    \n",
    " Si les résultats vous semblent décevants, souvenez vous des conseils de votre prédecesseur et mentor G. Abitbol: \"toujours donner un coup de pouce à un algo de machine learning  en lui présentant les bonnes données\"\n",
    "\n",
    "Vous pouvez ouvrir un fichier de la façon suivante:\n",
    "\n",
    "</div>    "
   ]
  },
  {
   "cell_type": "code",
   "execution_count": 5,
   "id": "5d29ff7a",
   "metadata": {},
   "outputs": [],
   "source": [
    "pdws = np.load('./radars/train/pdw-0.npz')\n",
    "dates = pdws['date']\n",
    "largeurs = pdws['largeur']\n",
    "frequences=pdws['puissance']\n",
    "puissances = pdws['puissance']\n",
    "theta = pdws['theta']\n",
    "phi = pdws['phi']\n"
   ]
  },
  {
   "cell_type": "code",
   "execution_count": 32,
   "id": "d10d4e25",
   "metadata": {},
   "outputs": [
    {
     "data": {
      "application/vnd.jupyter.widget-view+json": {
       "model_id": "7ee6e864ef3c4b7e837a75a207ec2edd",
       "version_major": 2,
       "version_minor": 0
      },
      "text/plain": [
       "interactive(children=(IntSlider(value=0, description='idx', max=799), Output()), _dom_classes=('widget-interac…"
      ]
     },
     "metadata": {},
     "output_type": "display_data"
    },
    {
     "data": {
      "text/plain": [
       "<function __main__.visualize(idx)>"
      ]
     },
     "execution_count": 32,
     "metadata": {},
     "output_type": "execute_result"
    }
   ],
   "source": [
    "from ipywidgets import interact, IntSlider\n",
    "import matplotlib.pyplot as plt\n",
    "def visualize(idx):\n",
    "    pdws = np.load(f'./radars/train/pdw-{idx}.npz')\n",
    "    target = dict_labels[f'pdw-{idx}']==\"nonmenace\"\n",
    "    dates = pdws['date']\n",
    "    # for label in [\"largeur\", \"frequence\", \"puissance\", \"theta\", \"phi\"]:\n",
    "    for label in [\"theta\", \"phi\"]:\n",
    "        plt.plot(dates, pdws[label], \"g-\" if target else \"r-\", label=label)\n",
    "        plt.title(label)\n",
    "    plt.legend()\n",
    "    plt.grid()\n",
    "    plt.show()\n",
    "interact(visualize, idx=IntSlider(min=0, max=799))"
   ]
  },
  {
   "cell_type": "code",
   "execution_count": 43,
   "id": "ec5e97bd",
   "metadata": {},
   "outputs": [],
   "source": [
    "data = []\n",
    "for idx in range(799):\n",
    "    pdws = np.load(f'./radars/train/pdw-{idx}.npz')\n",
    "    target = dict_labels[f'pdw-{idx}']==\"nonmenace\"\n",
    "    dates = pdws['date']\n",
    "    uniform_timestamps = np.linspace(0, 10.E3, 100)\n",
    "    new_dic = {}\n",
    "    for label in [\"largeur\", \"frequence\", \"puissance\", \"theta\", \"phi\"]:\n",
    "        non_uniform_value = pdws[label]\n",
    "        regular_sampling = np.interp(uniform_timestamps, xp=dates, fp=non_uniform_value)\n",
    "        new_dic[label] = regular_sampling\n",
    "    data.append(new_dic)"
   ]
  },
  {
   "cell_type": "code",
   "execution_count": 47,
   "id": "9b22cf0c",
   "metadata": {},
   "outputs": [
    {
     "data": {
      "text/html": [
       "<div>\n",
       "<style scoped>\n",
       "    .dataframe tbody tr th:only-of-type {\n",
       "        vertical-align: middle;\n",
       "    }\n",
       "\n",
       "    .dataframe tbody tr th {\n",
       "        vertical-align: top;\n",
       "    }\n",
       "\n",
       "    .dataframe thead th {\n",
       "        text-align: right;\n",
       "    }\n",
       "</style>\n",
       "<table border=\"1\" class=\"dataframe\">\n",
       "  <thead>\n",
       "    <tr style=\"text-align: right;\">\n",
       "      <th></th>\n",
       "      <th>largeur</th>\n",
       "      <th>frequence</th>\n",
       "      <th>puissance</th>\n",
       "      <th>theta</th>\n",
       "      <th>phi</th>\n",
       "    </tr>\n",
       "  </thead>\n",
       "  <tbody>\n",
       "    <tr>\n",
       "      <th>0</th>\n",
       "      <td>[0.291, 0.29110101876419414, 0.291851974575334...</td>\n",
       "      <td>[2.2220113463017723, 2.201167919972103, 2.2170...</td>\n",
       "      <td>[-125.58248735699023, -115.0846158693843, -108...</td>\n",
       "      <td>[0.9578859532471261, 0.8703978859546783, 0.607...</td>\n",
       "      <td>[1.678935775441994, 1.7243409379102963, 1.6140...</td>\n",
       "    </tr>\n",
       "    <tr>\n",
       "      <th>1</th>\n",
       "      <td>[0.138, 0.13692583655122312, 0.136807690163764...</td>\n",
       "      <td>[3.011221070570557, 2.9960065309250754, 3.0060...</td>\n",
       "      <td>[-127.176799666022, -157.8781625154061, -137.9...</td>\n",
       "      <td>[2.7962717807754327, -2.829550985701179, -2.48...</td>\n",
       "      <td>[1.5296932038533972, 1.5546468454693552, 1.632...</td>\n",
       "    </tr>\n",
       "    <tr>\n",
       "      <th>2</th>\n",
       "      <td>[0.201, 0.2018786859303869, 0.201, 0.201169602...</td>\n",
       "      <td>[0.9919904643038369, 0.9827439041435359, 0.989...</td>\n",
       "      <td>[-149.880060930416, -151.7229884218102, -153.5...</td>\n",
       "      <td>[-2.0412578355641227, -1.9204468635231988, -1....</td>\n",
       "      <td>[1.6722396416013094, 1.7759924411327765, 1.509...</td>\n",
       "    </tr>\n",
       "    <tr>\n",
       "      <th>3</th>\n",
       "      <td>[0.068, 0.06928607233324904, 0.069488659281325...</td>\n",
       "      <td>[1.6664240172021985, 1.6680610212198101, 1.664...</td>\n",
       "      <td>[-135.68775777002037, -134.56670065032353, -13...</td>\n",
       "      <td>[-2.621701006244045, -2.2862588398101207, -2.1...</td>\n",
       "      <td>[1.4039557266900524, 1.6190396944122287, 1.690...</td>\n",
       "    </tr>\n",
       "    <tr>\n",
       "      <th>4</th>\n",
       "      <td>[0.324, 0.3248032831089071, 0.3248041673940670...</td>\n",
       "      <td>[2.2078093931871146, 2.200771938700207, 2.2022...</td>\n",
       "      <td>[-172.60362010919195, -151.87364054688302, -15...</td>\n",
       "      <td>[2.274032092616462, 2.127649080211378, 2.36297...</td>\n",
       "      <td>[1.6134753329852611, 1.6012352706627135, 1.745...</td>\n",
       "    </tr>\n",
       "  </tbody>\n",
       "</table>\n",
       "</div>"
      ],
      "text/plain": [
       "                                             largeur  \\\n",
       "0  [0.291, 0.29110101876419414, 0.291851974575334...   \n",
       "1  [0.138, 0.13692583655122312, 0.136807690163764...   \n",
       "2  [0.201, 0.2018786859303869, 0.201, 0.201169602...   \n",
       "3  [0.068, 0.06928607233324904, 0.069488659281325...   \n",
       "4  [0.324, 0.3248032831089071, 0.3248041673940670...   \n",
       "\n",
       "                                           frequence  \\\n",
       "0  [2.2220113463017723, 2.201167919972103, 2.2170...   \n",
       "1  [3.011221070570557, 2.9960065309250754, 3.0060...   \n",
       "2  [0.9919904643038369, 0.9827439041435359, 0.989...   \n",
       "3  [1.6664240172021985, 1.6680610212198101, 1.664...   \n",
       "4  [2.2078093931871146, 2.200771938700207, 2.2022...   \n",
       "\n",
       "                                           puissance  \\\n",
       "0  [-125.58248735699023, -115.0846158693843, -108...   \n",
       "1  [-127.176799666022, -157.8781625154061, -137.9...   \n",
       "2  [-149.880060930416, -151.7229884218102, -153.5...   \n",
       "3  [-135.68775777002037, -134.56670065032353, -13...   \n",
       "4  [-172.60362010919195, -151.87364054688302, -15...   \n",
       "\n",
       "                                               theta  \\\n",
       "0  [0.9578859532471261, 0.8703978859546783, 0.607...   \n",
       "1  [2.7962717807754327, -2.829550985701179, -2.48...   \n",
       "2  [-2.0412578355641227, -1.9204468635231988, -1....   \n",
       "3  [-2.621701006244045, -2.2862588398101207, -2.1...   \n",
       "4  [2.274032092616462, 2.127649080211378, 2.36297...   \n",
       "\n",
       "                                                 phi  \n",
       "0  [1.678935775441994, 1.7243409379102963, 1.6140...  \n",
       "1  [1.5296932038533972, 1.5546468454693552, 1.632...  \n",
       "2  [1.6722396416013094, 1.7759924411327765, 1.509...  \n",
       "3  [1.4039557266900524, 1.6190396944122287, 1.690...  \n",
       "4  [1.6134753329852611, 1.6012352706627135, 1.745...  "
      ]
     },
     "execution_count": 47,
     "metadata": {},
     "output_type": "execute_result"
    }
   ],
   "source": [
    "import pandas as pd\n",
    "df = pd.DataFrame.from_dict(data)\n",
    "df.head()"
   ]
  },
  {
   "cell_type": "code",
   "execution_count": 51,
   "id": "8dab0c1f",
   "metadata": {},
   "outputs": [
    {
     "data": {
      "text/plain": [
       "array([[0.291     , 0.29110102, 0.29185197, ..., 0.29158628, 0.29207135,\n",
       "        0.292     ],\n",
       "       [0.138     , 0.13692584, 0.13680769, ..., 0.13747182, 0.13769229,\n",
       "        0.137     ],\n",
       "       [0.201     , 0.20187869, 0.201     , ..., 0.20201478, 0.202     ,\n",
       "        0.203     ],\n",
       "       ...,\n",
       "       [0.32      , 0.32084341, 0.32001239, ..., 0.31922752, 0.32012101,\n",
       "        0.319     ],\n",
       "       [0.021     , 0.02253623, 0.02145556, ..., 0.02262856, 0.02150723,\n",
       "        0.021     ],\n",
       "       [0.031     , 0.03141057, 0.03163303, ..., 0.031     , 0.03141001,\n",
       "        0.032     ]])"
      ]
     },
     "execution_count": 51,
     "metadata": {},
     "output_type": "execute_result"
    }
   ],
   "source": []
  },
  {
   "cell_type": "code",
   "execution_count": 52,
   "id": "3a79f4e4",
   "metadata": {},
   "outputs": [
    {
     "data": {
      "image/png": "[encoded data removed]",
      "text/plain": [
       "<Figure size 640x480 with 1 Axes>"
      ]
     },
     "metadata": {},
     "output_type": "display_data"
    }
   ],
   "source": [
    "plt.plot(np.array([el for el in df[\"largeur\"]]))\n",
    "plt.show()"
   ]
  },
  {
   "cell_type": "markdown",
   "id": "ade93bbd",
   "metadata": {},
   "source": []
  },
  {
   "cell_type": "markdown",
   "id": "2227d6c1",
   "metadata": {},
   "source": [
    "<div class=consignes> et les fichiers d'annotations:</div>"
   ]
  },
  {
   "cell_type": "code",
   "execution_count": 6,
   "id": "899bbbe1",
   "metadata": {},
   "outputs": [
    {
     "name": "stdout",
     "output_type": "stream",
     "text": [
      "Le signal pdw-0.npz est de type: nonmenace\n",
      "Le signal pdw-1.npz est de type: nonmenace\n",
      "Le signal pdw-2.npz est de type: menace\n",
      "Le signal pdw-3.npz est de type: nonmenace\n",
      "Le signal pdw-4.npz est de type: nonmenace\n",
      "Le signal pdw-5.npz est de type: menace\n",
      "Le signal pdw-6.npz est de type: menace\n",
      "Le signal pdw-7.npz est de type: menace\n",
      "Le signal pdw-8.npz est de type: menace\n",
      "Le signal pdw-9.npz est de type: nonmenace\n"
     ]
    }
   ],
   "source": [
    "import json\n",
    "\n",
    "with open('./radars/train_labels.json') as f: \n",
    "    dict_labels = json.load(f)\n",
    "\n",
    "for i in range(10):\n",
    "    print(f\"Le signal pdw-{i}.npz est de type: {dict_labels[f'pdw-{i}']}\")"
   ]
  },
  {
   "cell_type": "markdown",
   "id": "ca9d9a5d",
   "metadata": {},
   "source": [
    "<div class=consignes> On compte sur vous, bonne chance ! </div>"
   ]
  },
  {
   "cell_type": "code",
   "execution_count": null,
   "id": "a0bbbf7c",
   "metadata": {},
   "outputs": [],
   "source": []
  }
 ],
 "metadata": {
  "kernelspec": {
   "display_name": "Python 3 (ipykernel)",
   "language": "python",
   "name": "python3"
  },
  "language_info": {
   "codemirror_mode": {
    "name": "ipython",
    "version": 3
   },
   "file_extension": ".py",
   "mimetype": "text/x-python",
   "name": "python",
   "nbconvert_exporter": "python",
   "pygments_lexer": "ipython3",
   "version": "3.10.12"
  }
 },
 "nbformat": 4,
 "nbformat_minor": 5
}
